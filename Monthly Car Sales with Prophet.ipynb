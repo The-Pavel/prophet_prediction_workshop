{
 "cells": [
  {
   "cell_type": "markdown",
   "id": "af57f63e",
   "metadata": {},
   "source": [
    "# Enter `fbprophet` 🔮\n",
    "\n",
    "[fbprophet](https://facebook.github.io/prophet/docs/quick_start.html) is a **Python library** developed by Facebook for time series predictions. Reminder, that **time series** is the field of data analytics and data science that deals with *sequentially recorded data* (such as monthly sales, daily temperature, daily stock prices...)"
   ]
  },
  {
   "cell_type": "markdown",
   "id": "2e2c4d4c",
   "metadata": {},
   "source": [
    "**Quick reminder about Jupyter notebooks** \n",
    "\n",
    "* Type inside the empty cells to write code. These empty cells will have a `In [ ]:` prefix before\n",
    "* Press the `return/enter ⏎` key to add a new line inside the cell\n",
    "* To display your results use the Python built in `print(STUFF_YOU_WANT_TO_PRINT)` method or simply put the stuff you want to print as the last line inside the cell. The result of the **last line** will appear as the `Out[]:` or the output of the cell :)\n",
    "* Press `shift` + `return/enter ⏎` to run your code 🤓 this will run the code inside your currently selected cell and print anything inside `print()` method and the last line of your cell\n",
    "* To add a new cell, select any cell and press the `b` key (make sure you are not just typing the letter `b` in the cell). This will add a new cell below\n",
    "* To delete a cell, double press the `d` key (make sure you are not just typing the letter `d` in the cell)\n",
    "\n",
    "**Try to run the cells below!**"
   ]
  },
  {
   "cell_type": "code",
   "execution_count": null,
   "id": "1dcef8a7",
   "metadata": {},
   "outputs": [],
   "source": [
    "1 + 1"
   ]
  },
  {
   "cell_type": "code",
   "execution_count": null,
   "id": "c7b2ca83",
   "metadata": {},
   "outputs": [],
   "source": [
    "print(\"Are you ready to do your first prediction?\")\n",
    "\"Ready!\" # last line of each cell is automatically displayed as Output, no need for print()"
   ]
  },
  {
   "cell_type": "markdown",
   "id": "36161044",
   "metadata": {},
   "source": [
    "## Our first prediction - sales forecasting 🚗"
   ]
  },
  {
   "cell_type": "markdown",
   "id": "1d8b2cc5",
   "metadata": {},
   "source": [
    "As always, we start with importing the necessary Python libraries."
   ]
  },
  {
   "cell_type": "code",
   "execution_count": null,
   "id": "118e0d37",
   "metadata": {},
   "outputs": [],
   "source": [
    "from fbprophet import Prophet\n",
    "import pandas as pd\n",
    "# import seaborn as sns\n",
    "# import matplotlib.pyplot as plt"
   ]
  },
  {
   "cell_type": "markdown",
   "id": "7de81c55",
   "metadata": {},
   "source": [
    "And importing our data. For this exercise, we will look at how Python and `fbprophet` can be used for **sales forecasting** - an important task in any business that wants to plan ahead.\n",
    "\n",
    "Let's look at monthly sales of a *unnamed* car company 😉"
   ]
  },
  {
   "cell_type": "code",
   "execution_count": null,
   "id": "782152d2",
   "metadata": {},
   "outputs": [],
   "source": [
    "df = pd.read_csv('monthly-car-sales.csv')\n",
    "df.head()"
   ]
  },
  {
   "cell_type": "markdown",
   "id": "f5923991",
   "metadata": {},
   "source": [
    "### Understanding our data"
   ]
  },
  {
   "cell_type": "markdown",
   "id": "afc3df26",
   "metadata": {},
   "source": [
    "Whenever we start with a new dataset, our first goal is to **explore** what's in it! 🔍"
   ]
  },
  {
   "cell_type": "markdown",
   "id": "93d5694c",
   "metadata": {},
   "source": [
    "**Your turn! 🚀** Check how many rows and columns we have in the dataset."
   ]
  },
  {
   "cell_type": "code",
   "execution_count": null,
   "id": "7b4c09ee",
   "metadata": {},
   "outputs": [],
   "source": [
    "# your code here"
   ]
  },
  {
   "cell_type": "markdown",
   "id": "be40fdcb",
   "metadata": {},
   "source": [
    "<details><summary>Solution</summary>\n",
    "    \n",
    "<pre>\n",
    "df.shape\n",
    "</pre>\n",
    "    \n",
    "</details>\n"
   ]
  },
  {
   "cell_type": "markdown",
   "id": "beb4e06b",
   "metadata": {},
   "source": [
    "**Your turn! 🚀** Let's see what are the **data types** of our columns"
   ]
  },
  {
   "cell_type": "code",
   "execution_count": null,
   "id": "e038584f",
   "metadata": {},
   "outputs": [],
   "source": [
    "# your code here"
   ]
  },
  {
   "cell_type": "markdown",
   "id": "193b54d0",
   "metadata": {},
   "source": [
    "<details><summary>Solution</summary>\n",
    "    \n",
    "<pre>\n",
    "df.dtypes\n",
    "</pre>\n",
    "    \n",
    "</details>\n"
   ]
  },
  {
   "cell_type": "markdown",
   "id": "37bafc81",
   "metadata": {},
   "source": [
    "**Your turn! 🚀** Plot a **linechart** of the monthly sales using `df.plot()` function"
   ]
  },
  {
   "cell_type": "code",
   "execution_count": null,
   "id": "3275df00",
   "metadata": {},
   "outputs": [],
   "source": [
    "# your code here"
   ]
  },
  {
   "cell_type": "markdown",
   "id": "2c5d20af",
   "metadata": {},
   "source": [
    "<details><summary>Solution</summary>\n",
    "    \n",
    "<pre>\n",
    "df.plot(x='Month', y='Sales', figsize=(15,6)) # we change to figsize to make it bigger\n",
    "</pre>\n",
    "    \n",
    "</details>\n"
   ]
  },
  {
   "cell_type": "markdown",
   "id": "4ba2ab42",
   "metadata": {},
   "source": [
    "We can already start seeing some patterns, but let's see how we can use machines to make predictions for us!"
   ]
  },
  {
   "cell_type": "markdown",
   "id": "a998d90f",
   "metadata": {},
   "source": [
    "### Preparing our data for Prophet\n",
    "\n",
    "If we check the official [Prophet docs](https://facebook.github.io/prophet/docs/quick_start.html) we will see that there's a few conditions it asks of us:\n",
    "\n",
    "1. Prophet needs the **datetime** column to be called `ds`\n",
    "2. Prophet needs the **observations** column to be called `y`"
   ]
  },
  {
   "cell_type": "markdown",
   "id": "ceb3193a",
   "metadata": {},
   "source": [
    "First of all let's rename our columns correctly. That's as easy as just assigning a new list of columns, like this:\n",
    "\n",
    "```python\n",
    "df.columns = ['column1', 'column2']\n",
    "```"
   ]
  },
  {
   "cell_type": "code",
   "execution_count": null,
   "id": "24ef5326",
   "metadata": {},
   "outputs": [],
   "source": [
    "# Assign the right column names here :)\n",
    "df.columns = ['ds', 'y']"
   ]
  },
  {
   "cell_type": "markdown",
   "id": "0f6e65b8",
   "metadata": {},
   "source": [
    "<details><summary>Solution</summary>\n",
    "    \n",
    "<pre>\n",
    "df.columns = ['ds', 'y']\n",
    "</pre>\n",
    "    \n",
    "</details>\n"
   ]
  },
  {
   "cell_type": "markdown",
   "id": "8c058fda",
   "metadata": {},
   "source": [
    "You might have noticed that our `Month` column (now called `ds`) doesn't have the right data type - it's current type is `object`. That's because `pandas` by default only sees text (which it calls `object`) and numbers.\n",
    "\n",
    "We can use the built-in [pandas.to_datetime()](https://pandas.pydata.org/pandas-docs/stable/reference/api/pandas.to_datetime.html) function to quickly change that! Notice that by itself, `pd.to_datetime()` function creates a *copy* of the column, so we need to save it back to the original columns, like so:"
   ]
  },
  {
   "cell_type": "code",
   "execution_count": null,
   "id": "c2c1feda",
   "metadata": {},
   "outputs": [],
   "source": [
    "df['ds'] = pd.to_datetime(df['ds'])"
   ]
  },
  {
   "attachments": {},
   "cell_type": "markdown",
   "id": "3881e4d7",
   "metadata": {},
   "source": [
    "Normally, we would also have to change our DataFrame to match the structure we saw in the slides like this one:\n",
    "\n",
    "<img src=\"timeseriesdata.png\" width=300/>"
   ]
  },
  {
   "cell_type": "markdown",
   "id": "76b7e11d",
   "metadata": {},
   "source": [
    "**But** the amazing `fbprophet` does that for us! Which means we are ready to start **Machine Learning** 🤖"
   ]
  },
  {
   "cell_type": "markdown",
   "id": "ea31cfe6",
   "metadata": {},
   "source": [
    "### Creating the Prophet prediction model"
   ]
  },
  {
   "cell_type": "markdown",
   "id": "571fbc7c",
   "metadata": {},
   "source": [
    "All Machine Learning tasks consist of the same steps:\n",
    "\n",
    "1. Creating the model\n",
    "2. Training the model (that's what takes the most time)\n",
    "3. Using the model to predict\n",
    "4. Evaluating the performance of the model\n",
    "\n",
    "So, what are we waiting for?"
   ]
  },
  {
   "cell_type": "markdown",
   "id": "6493d2e6",
   "metadata": {},
   "source": [
    "**1. Creating the model**"
   ]
  },
  {
   "cell_type": "markdown",
   "id": "76a8861c",
   "metadata": {},
   "source": [
    "At the top of this notebook we imported the `Prophet` *class*. This class is the \"factory\" which can help us create Prophet models. This is how it looks like:"
   ]
  },
  {
   "cell_type": "code",
   "execution_count": null,
   "id": "2551607c",
   "metadata": {},
   "outputs": [],
   "source": [
    "model = Prophet()"
   ]
  },
  {
   "cell_type": "markdown",
   "id": "a64de88e",
   "metadata": {},
   "source": [
    "**2. Training the model**\n",
    "\n",
    "We have a `model` ready, but it is not trained yet. That's our next step - we will give it our `df` DataFrame to *fit* an algorithm, which the machine will observe fits best all the historic observations we have."
   ]
  },
  {
   "cell_type": "code",
   "execution_count": null,
   "id": "55092f20",
   "metadata": {},
   "outputs": [],
   "source": [
    "model.fit(df)"
   ]
  },
  {
   "cell_type": "markdown",
   "id": "6c8c481d",
   "metadata": {},
   "source": [
    "**Boom 💥** our `model` has found a \"logic\" that best explains the historic sales data. Now the caveat of Machine Learning in general is that often that \"logic\" is a **black box** ◼️ The model finds a formula that works for it, but as people we don't have much visibility into it.\n",
    "\n",
    "But we can leverage it for **predictions!** 🔮"
   ]
  },
  {
   "cell_type": "markdown",
   "id": "8897ca8c",
   "metadata": {},
   "source": [
    "### Forecasting and predictions"
   ]
  },
  {
   "cell_type": "markdown",
   "id": "9b9390c5",
   "metadata": {},
   "source": [
    "When we talk about doing predictions programmatically, we talk about two types of predictions:\n",
    "\n",
    "1. **In-sample** - we remove part of our historic data, and predict it with the model, to see how well it does\n",
    "2. **Out-of-sample** (future predictions) - after verifying that our model \"makes sense\", we use it to generate future predictions"
   ]
  },
  {
   "cell_type": "markdown",
   "id": "369c969b",
   "metadata": {},
   "source": [
    "**In-sample** - Let's take the last 12 months of our existing dataset, and see how close are our model's predictions to the real sales"
   ]
  },
  {
   "cell_type": "markdown",
   "id": "7e75a345",
   "metadata": {},
   "source": [
    "We can slice our DataFrame not only by columns (ex. `df['column']`) but also by rows, like this:"
   ]
  },
  {
   "cell_type": "code",
   "execution_count": null,
   "id": "db747c9b",
   "metadata": {},
   "outputs": [],
   "source": [
    "df[100:102]"
   ]
  },
  {
   "cell_type": "markdown",
   "id": "0dff763f",
   "metadata": {},
   "source": [
    "**Your turn! 🚀** So how do we get the **last 12 months** of the our DataFrame? 🤔\n",
    "\n"
   ]
  },
  {
   "cell_type": "code",
   "execution_count": null,
   "id": "30b2a409",
   "metadata": {},
   "outputs": [],
   "source": [
    "# your code here\n",
    "sample = df[96:108]"
   ]
  },
  {
   "cell_type": "markdown",
   "id": "b5e21f17",
   "metadata": {},
   "source": [
    "<details><summary>Solution</summary>\n",
    "    \n",
    "<pre>\n",
    "sample = df[96:108]\n",
    "</pre>\n",
    "    \n",
    "</details>\n"
   ]
  },
  {
   "cell_type": "markdown",
   "id": "ef42ef92",
   "metadata": {},
   "source": [
    "We are now ready to create a **forecast** - a DataFrame with predictions from our Prophet model.\n",
    "\n",
    "*P.S.* we want the result to be a DataFrame with one column - `ds` - not just one list of dates. So we select the needed column below with double-brackets, like `[['ds]]`"
   ]
  },
  {
   "cell_type": "code",
   "execution_count": null,
   "id": "d0b04a0b",
   "metadata": {},
   "outputs": [],
   "source": [
    "forecast = model.predict(sample[['ds']])\n",
    "forecast.head()"
   ]
  },
  {
   "cell_type": "markdown",
   "id": "b4301cf3",
   "metadata": {},
   "source": [
    "Wow that's a lot of stuff 🤯 We will explore what is what in a minute, but first let's first **visualize** our predictions, which would be much more human."
   ]
  },
  {
   "cell_type": "code",
   "execution_count": null,
   "id": "a9acd102",
   "metadata": {},
   "outputs": [],
   "source": [
    "model.plot(forecast);"
   ]
  },
  {
   "cell_type": "markdown",
   "id": "be7eb7b1",
   "metadata": {},
   "source": [
    "The black dots in the chart above is the real data points. \n",
    "\n",
    "The dark blue line is the predicted value - it's a line chart between the `yhat` points that we saw in the `forecast` DataFrame above.\n",
    "\n",
    "The light blue area is the **confidence interval** - typically a 95% confidence window of the model prediction."
   ]
  },
  {
   "cell_type": "markdown",
   "id": "07ab0ceb",
   "metadata": {},
   "source": [
    "**[Bonus 🥇]** We can also add a **line chart** for the historic data to make it more visual:"
   ]
  },
  {
   "cell_type": "code",
   "execution_count": null,
   "id": "61a376aa",
   "metadata": {},
   "outputs": [],
   "source": [
    "ax = model.plot(forecast).gca()\n",
    "df.plot(ax=ax, x='ds', y='y', label='actual', color='g');"
   ]
  },
  {
   "cell_type": "markdown",
   "id": "f34ea129",
   "metadata": {},
   "source": [
    "**[Bonus Bonus 💥]** Looks like our model is fitting quite well! But **how well?** 🤔\n",
    "\n",
    "We have the real data (`y` column) from our `sample`, and we have the predicted `yhat` from `forecast`.  Let's calculate the difference!"
   ]
  },
  {
   "cell_type": "code",
   "execution_count": null,
   "id": "d70592a7",
   "metadata": {},
   "outputs": [],
   "source": [
    "difference = forecast['yhat'].values - sample['y'].values\n",
    "print(difference.mean())\n",
    "difference"
   ]
  },
  {
   "cell_type": "markdown",
   "id": "71b49d64",
   "metadata": {},
   "source": [
    "From the above result we can see the **errors** - the difference between the predicted and actual car sales for the last 12 months.\n",
    "\n",
    "We also calculated the **mean** - or the **average** - error. Considering our car sales those months are between 15,000 ~ 25,000 cars, an error of around 190 cars is already really good! 🥳"
   ]
  },
  {
   "cell_type": "markdown",
   "id": "7aa1cf69",
   "metadata": {},
   "source": [
    "Remember that this was the **in-sample** prediction. Now let's move on to **future forecasting! 🕵️‍♂️**"
   ]
  },
  {
   "cell_type": "markdown",
   "id": "8a0340e1",
   "metadata": {},
   "source": [
    "### Future Forecasting - out-of-sample (new data) predictions"
   ]
  },
  {
   "cell_type": "markdown",
   "id": "961089bc",
   "metadata": {},
   "source": [
    "Luckily `fbprophet` comes with some amazing tools for predictions, including the [`make_future_dataframe()`](https://facebook.github.io/prophet/docs/non-daily_data.html) method which allows us to quickly create a set of future dates to use for prediction. And it automatically turns it into a `DataFrame` 🙌"
   ]
  },
  {
   "cell_type": "code",
   "execution_count": null,
   "id": "c717ab58",
   "metadata": {},
   "outputs": [],
   "source": [
    "future = model.make_future_dataframe(freq='MS', periods=12)\n",
    "future"
   ]
  },
  {
   "cell_type": "markdown",
   "id": "38f12c18",
   "metadata": {},
   "source": [
    "You'll see that what it does is **append** the new months to the existing data - very useful, since we want to connect the two for an uninterrupted chart."
   ]
  },
  {
   "cell_type": "markdown",
   "id": "b6b200b6",
   "metadata": {},
   "source": [
    "**Your turn! 🚀** The prediction code is the same as before, only now we will be using the `future` DataFrame, not the `sample` any more."
   ]
  },
  {
   "cell_type": "code",
   "execution_count": null,
   "id": "1569ade4",
   "metadata": {},
   "outputs": [],
   "source": [
    "# Your code here\n",
    "future_forecast = model.predict(future)"
   ]
  },
  {
   "cell_type": "markdown",
   "id": "3ecf7707",
   "metadata": {},
   "source": [
    "<details><summary>Solution</summary>\n",
    "    \n",
    "<pre>\n",
    "future_forecast = model.predict(future)\n",
    "</pre>\n",
    "    \n",
    "</details>"
   ]
  },
  {
   "cell_type": "markdown",
   "id": "2f9c8f4a",
   "metadata": {},
   "source": [
    "**Your turn! 🚀** Let's go ahead and plot it same way as we did before with the `model`."
   ]
  },
  {
   "cell_type": "code",
   "execution_count": null,
   "id": "510fade9",
   "metadata": {},
   "outputs": [],
   "source": [
    "# Your code here\n",
    "model.plot(future_forecast);"
   ]
  },
  {
   "cell_type": "markdown",
   "id": "246f91d9",
   "metadata": {},
   "source": [
    "<details><summary>Solution</summary>\n",
    "    \n",
    "<pre>\n",
    "model.plot(future_forecast);\n",
    "</pre>\n",
    "    \n",
    "</details>"
   ]
  },
  {
   "cell_type": "markdown",
   "id": "7605a8df",
   "metadata": {},
   "source": [
    "### Congrats! 👏 This is your first prediction on unseen data!\n",
    "\n",
    "You can also see how the model looks for patterns in historic data, but without **overfitting** - you can see that some black dots are not covered by the blue area. Which is normal, because not every month of car sales follows the same pattern, we've all had better and worse months 😉\n",
    "\n",
    "**Let's explore our results further**"
   ]
  },
  {
   "cell_type": "markdown",
   "id": "9a1b5c9c",
   "metadata": {},
   "source": [
    "### Seasonality and Trend"
   ]
  },
  {
   "cell_type": "markdown",
   "id": "c4361eba",
   "metadata": {},
   "source": [
    "To understand our results better, we need to explore the **components** that influence our car sales. The main two are seasonality and trend:\n",
    "\n",
    "- **Seasonality** is the waves in our data. Looking at those can help find patterns of highs and lows.\n",
    "- **Trend** is the general direction of the data. This helps us see whether we're increasing or decreasing over time."
   ]
  },
  {
   "cell_type": "markdown",
   "id": "90615901",
   "metadata": {},
   "source": [
    "And again `fbprophet` has helpful functions ready to use - let's use the [`plot_components()`](https://facebook.github.io/prophet/docs/seasonality,_holiday_effects,_and_regressors.html) function on our `model`."
   ]
  },
  {
   "cell_type": "code",
   "execution_count": null,
   "id": "9d7671c0",
   "metadata": {},
   "outputs": [],
   "source": [
    "model.plot_components(future_forecast);"
   ]
  },
  {
   "cell_type": "markdown",
   "id": "a9712e18",
   "metadata": {},
   "source": [
    "**[Bonus 🥇]** We can make our plots interactive with another Python library called [Plotly](https://plotly.com/python/):"
   ]
  },
  {
   "cell_type": "code",
   "execution_count": null,
   "id": "d0797fb0",
   "metadata": {},
   "outputs": [],
   "source": [
    "from prophet.plot import plot_plotly, plot_components_plotly\n",
    "\n",
    "plot_plotly(model, future_forecast)"
   ]
  },
  {
   "cell_type": "markdown",
   "id": "6f31b9c1",
   "metadata": {},
   "source": [
    "### Model Evaluation\n",
    "\n",
    "We can't jump to conclusions on our model and trust it blindly. Even though we good a low error (difference) when looking at existing data, we need to look at some other important **metrics** to confidently say that our model can help the company! 🏎️"
   ]
  },
  {
   "cell_type": "markdown",
   "id": "a8b5768b",
   "metadata": {},
   "source": [
    "Luckily for us, `fbprophet` comes with a handy [Diagnostics](https://facebook.github.io/prophet/docs/diagnostics.html) library built in.\n",
    "\n",
    "Let's start by doing [cross-validation](https://en.wikipedia.org/wiki/Cross-validation_(statistics)) - a technique in statistics, to run through the same process multiple times (instead of just one like we did above), and see how consistent are our results. Run the below two cells:"
   ]
  },
  {
   "cell_type": "code",
   "execution_count": null,
   "id": "1bc988b3",
   "metadata": {},
   "outputs": [],
   "source": [
    "from prophet.diagnostics import cross_validation"
   ]
  },
  {
   "cell_type": "code",
   "execution_count": null,
   "id": "eced1c4d",
   "metadata": {},
   "outputs": [],
   "source": [
    "df_cv = cross_validation(model, period='180 days', horizon='365 days')"
   ]
  },
  {
   "cell_type": "markdown",
   "id": "472dd013",
   "metadata": {},
   "source": [
    "As we saw, this took longer than a regular model training and prediction. That's because it ran the process **10 times**, each time taking a piece of the data as the \"seen\" data, and predicting the next period, as though it is \"unseen\", trying to predict up to one year ahead each time. Robots are tricky, eh? 🤖"
   ]
  },
  {
   "cell_type": "code",
   "execution_count": null,
   "id": "c0335ff4",
   "metadata": {},
   "outputs": [],
   "source": [
    "df_cv"
   ]
  },
  {
   "cell_type": "markdown",
   "id": "893ad792",
   "metadata": {},
   "source": [
    "If you look inside the `df_cv` variable, you'll see that we're storing a bunch of data about the real car sales throughout the years (`y` column), the predicted sales (`yhat`) as well as the `cutoff`s - the time blocks used to simulate \"unseen\" data, so we can better understand our model performance.\n",
    "\n",
    "You might notice already not everything is as rosy as it seemed 🥀 \n",
    "\n",
    "But we did **all this in 1 hour**! Imagine what **you can do with more time!!! 🤩**"
   ]
  },
  {
   "cell_type": "markdown",
   "id": "56b47eed",
   "metadata": {},
   "source": [
    "### Wrapping up - interpretation"
   ]
  },
  {
   "cell_type": "markdown",
   "id": "36a687c3",
   "metadata": {},
   "source": [
    "To close our current exploration and prediction, let's visualize the `mae` - [**Mean Absolute Error**](https://en.wikipedia.org/wiki/Mean_absolute_erro). This is the average difference that we're getting between the real car sales and predicted ones.\n",
    "\n",
    "Remember, when we looked at *in-sample* prediction, our average MAE was around 200 cars. Let's see how much harder *real* predictions get 🙈"
   ]
  },
  {
   "cell_type": "code",
   "execution_count": null,
   "id": "f0c2c1d7",
   "metadata": {},
   "outputs": [],
   "source": [
    "from prophet.plot import plot_cross_validation_metric\n",
    "fig = plot_cross_validation_metric(df_cv, metric='mae')"
   ]
  },
  {
   "cell_type": "markdown",
   "id": "c3a03508",
   "metadata": {},
   "source": [
    "### Explaining these results to your boss 💹"
   ]
  },
  {
   "cell_type": "markdown",
   "id": "17d9b2cf",
   "metadata": {},
   "source": [
    "Let's explore the chart above:\n",
    "* Our horizontal (`x`) axis is how many days into the future we're predicting. As you can see, we tried to predict up to a maximum of 365 days (1 year). That's our **horizon**\n",
    "* Our vertical (`y`) axis is the Mean Absolute Error - the average error in our predictions in car sales. We can see we are typically making errors of around 1000-2000 cars.\n",
    "\n",
    "**Our best case interpretation:**\n",
    "\n",
    "We can see some clear highs and lows in our errors. It seems that are predictions are best at `around 3 to 6 months into the future`, where we are able to `predict with 95% confidence the car sales, with an error of ±1300 cars`.\n",
    "\n",
    "Before and after that the **volatility** (waviness) or errors becomes too big to say anything with certainty. Your boss will be happy you did our research 🤓"
   ]
  },
  {
   "cell_type": "markdown",
   "id": "aff6de58",
   "metadata": {},
   "source": [
    "# Congrats on completing this challenge! 🙌 There's always more to learn!"
   ]
  }
 ],
 "metadata": {
  "kernelspec": {
   "display_name": "lewagon",
   "language": "python",
   "name": "lewagon"
  },
  "language_info": {
   "codemirror_mode": {
    "name": "ipython",
    "version": 3
   },
   "file_extension": ".py",
   "mimetype": "text/x-python",
   "name": "python",
   "nbconvert_exporter": "python",
   "pygments_lexer": "ipython3",
   "version": "3.8.6"
  },
  "toc": {
   "base_numbering": 1,
   "nav_menu": {},
   "number_sections": true,
   "sideBar": true,
   "skip_h1_title": false,
   "title_cell": "Table of Contents",
   "title_sidebar": "Contents",
   "toc_cell": false,
   "toc_position": {},
   "toc_section_display": true,
   "toc_window_display": false
  }
 },
 "nbformat": 4,
 "nbformat_minor": 5
}
