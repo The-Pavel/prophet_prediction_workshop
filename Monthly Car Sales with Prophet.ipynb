{
 "cells": [
  {
   "cell_type": "markdown",
   "id": "af57f63e",
   "metadata": {},
   "source": [
    "# Enter `fbprophet` 🔮\n",
    "\n",
    "[fbprophet](https://facebook.github.io/prophet/docs/quick_start.html) is a **Python library** developed by Facebook for time series predictions. Reminder, that **time series** is the field of data analytics and data science that deals with *sequentially recorded data* (such as monthly sales, daily temperature, daily stock prices...)"
   ]
  },
  {
   "cell_type": "markdown",
   "id": "2e2c4d4c",
   "metadata": {},
   "source": [
    "**Quick reminder about Jupyter notebooks** \n",
    "\n",
    "* Type inside the empty cells to write code. These empty cells will have a `In [ ]:` prefix before\n",
    "* Press the `return/enter ⏎` key to add a new line inside the cell\n",
    "* To display your results use the Python built in `print(STUFF_YOU_WANT_TO_PRINT)` method or simply put the stuff you want to print as the last line inside the cell. The result of the **last line** will appear as the `Out[]:` or the output of the cell :)\n",
    "* Press `shift` + `return/enter ⏎` to run your code 🤓 this will run the code inside your currently selected cell and print anything inside `print()` method and the last line of your cell\n",
    "* To add a new cell, select any cell and press the `b` key (make sure you are not just typing the letter `b` in the cell). This will add a new cell below\n",
    "* To delete a cell, double press the `d` key (make sure you are not just typing the letter `d` in the cell)\n",
    "\n",
    "**Try to run the cells below!**"
   ]
  },
  {
   "cell_type": "code",
   "execution_count": 4,
   "id": "1dcef8a7",
   "metadata": {},
   "outputs": [
    {
     "data": {
      "text/plain": [
       "2"
      ]
     },
     "execution_count": 4,
     "metadata": {},
     "output_type": "execute_result"
    }
   ],
   "source": [
    "1 + 1"
   ]
  },
  {
   "cell_type": "code",
   "execution_count": 5,
   "id": "c7b2ca83",
   "metadata": {},
   "outputs": [
    {
     "name": "stdout",
     "output_type": "stream",
     "text": [
      "Are you ready to do your first prediction?\n"
     ]
    },
    {
     "data": {
      "text/plain": [
       "'Ready!'"
      ]
     },
     "execution_count": 5,
     "metadata": {},
     "output_type": "execute_result"
    }
   ],
   "source": [
    "print(\"Are you ready to do your first prediction?\")\n",
    "\"Ready!\" # last line of each cell is automatically displayed as Output, no need for print()"
   ]
  },
  {
   "cell_type": "markdown",
   "id": "36161044",
   "metadata": {},
   "source": [
    "## Our first prediction - sales forecasting 🚗"
   ]
  },
  {
   "cell_type": "markdown",
   "id": "1d8b2cc5",
   "metadata": {},
   "source": [
    "As always, we start with importing the necessary Python libraries."
   ]
  },
  {
   "cell_type": "code",
   "execution_count": 6,
   "id": "118e0d37",
   "metadata": {},
   "outputs": [],
   "source": [
    "from fbprophet import Prophet\n",
    "import pandas as pd"
   ]
  },
  {
   "cell_type": "markdown",
   "id": "7de81c55",
   "metadata": {},
   "source": [
    "And importing our data. For this exercise, we will look at how Python and `fbprophet` can be used for **sales forecasting** - an important task in any business that wants to plan ahead.\n",
    "\n",
    "Let's look at monthly sales of a *unnamed* car company 😉"
   ]
  },
  {
   "cell_type": "code",
   "execution_count": 8,
   "id": "782152d2",
   "metadata": {},
   "outputs": [
    {
     "data": {
      "text/html": [
       "<div>\n",
       "<style scoped>\n",
       "    .dataframe tbody tr th:only-of-type {\n",
       "        vertical-align: middle;\n",
       "    }\n",
       "\n",
       "    .dataframe tbody tr th {\n",
       "        vertical-align: top;\n",
       "    }\n",
       "\n",
       "    .dataframe thead th {\n",
       "        text-align: right;\n",
       "    }\n",
       "</style>\n",
       "<table border=\"1\" class=\"dataframe\">\n",
       "  <thead>\n",
       "    <tr style=\"text-align: right;\">\n",
       "      <th></th>\n",
       "      <th>Month</th>\n",
       "      <th>Sales</th>\n",
       "    </tr>\n",
       "  </thead>\n",
       "  <tbody>\n",
       "    <tr>\n",
       "      <th>103</th>\n",
       "      <td>1968-08</td>\n",
       "      <td>16722</td>\n",
       "    </tr>\n",
       "    <tr>\n",
       "      <th>104</th>\n",
       "      <td>1968-09</td>\n",
       "      <td>14385</td>\n",
       "    </tr>\n",
       "    <tr>\n",
       "      <th>105</th>\n",
       "      <td>1968-10</td>\n",
       "      <td>21342</td>\n",
       "    </tr>\n",
       "    <tr>\n",
       "      <th>106</th>\n",
       "      <td>1968-11</td>\n",
       "      <td>17180</td>\n",
       "    </tr>\n",
       "    <tr>\n",
       "      <th>107</th>\n",
       "      <td>1968-12</td>\n",
       "      <td>14577</td>\n",
       "    </tr>\n",
       "  </tbody>\n",
       "</table>\n",
       "</div>"
      ],
      "text/plain": [
       "       Month  Sales\n",
       "103  1968-08  16722\n",
       "104  1968-09  14385\n",
       "105  1968-10  21342\n",
       "106  1968-11  17180\n",
       "107  1968-12  14577"
      ]
     },
     "execution_count": 8,
     "metadata": {},
     "output_type": "execute_result"
    }
   ],
   "source": [
    "df = pd.read_csv('data/monthly-car-sales.csv')\n",
    "df.tail()"
   ]
  },
  {
   "cell_type": "markdown",
   "id": "f5923991",
   "metadata": {},
   "source": [
    "### Understanding our data"
   ]
  },
  {
   "cell_type": "markdown",
   "id": "afc3df26",
   "metadata": {},
   "source": [
    "Whenever we start with a new dataset, our first goal is to **explore** what's in it! 🔍"
   ]
  },
  {
   "cell_type": "markdown",
   "id": "93d5694c",
   "metadata": {},
   "source": [
    "**Your turn! 🚀** Check how many rows and columns we have in the dataset."
   ]
  },
  {
   "cell_type": "code",
   "execution_count": 9,
   "id": "7b4c09ee",
   "metadata": {},
   "outputs": [
    {
     "data": {
      "text/plain": [
       "(108, 2)"
      ]
     },
     "execution_count": 9,
     "metadata": {},
     "output_type": "execute_result"
    }
   ],
   "source": [
    "# your code here\n",
    "df.shape"
   ]
  },
  {
   "cell_type": "markdown",
   "id": "be40fdcb",
   "metadata": {},
   "source": [
    "<details><summary>Solution</summary>\n",
    "    \n",
    "<pre>\n",
    "df.shape\n",
    "</pre>\n",
    "    \n",
    "</details>\n"
   ]
  },
  {
   "cell_type": "markdown",
   "id": "beb4e06b",
   "metadata": {},
   "source": [
    "**Your turn! 🚀** Let's see what are the **data types** of our columns"
   ]
  },
  {
   "cell_type": "code",
   "execution_count": 10,
   "id": "e038584f",
   "metadata": {},
   "outputs": [
    {
     "data": {
      "text/plain": [
       "Month    object\n",
       "Sales     int64\n",
       "dtype: object"
      ]
     },
     "execution_count": 10,
     "metadata": {},
     "output_type": "execute_result"
    }
   ],
   "source": [
    "# your code here\n",
    "df.dtypes"
   ]
  },
  {
   "cell_type": "markdown",
   "id": "193b54d0",
   "metadata": {},
   "source": [
    "<details><summary>Solution</summary>\n",
    "    \n",
    "<pre>\n",
    "df.dtypes\n",
    "</pre>\n",
    "    \n",
    "</details>\n"
   ]
  },
  {
   "cell_type": "markdown",
   "id": "37bafc81",
   "metadata": {},
   "source": [
    "**Your turn! 🚀** Plot a **linechart** of the monthly sales using `df.plot()` function"
   ]
  },
  {
   "cell_type": "code",
   "execution_count": 14,
   "id": "3275df00",
   "metadata": {},
   "outputs": [],
   "source": [
    "# your code here"
   ]
  },
  {
   "cell_type": "markdown",
   "id": "2c5d20af",
   "metadata": {},
   "source": [
    "<details><summary>Solution</summary>\n",
    "    \n",
    "<pre>\n",
    "df.plot(x='Month', y='Sales', figsize=(15,6)) # we change to figsize to make it bigger\n",
    "</pre>\n",
    "    \n",
    "</details>\n"
   ]
  },
  {
   "cell_type": "markdown",
   "id": "4ba2ab42",
   "metadata": {},
   "source": [
    "We can already start seeing some patterns, but let's see how we can use machines to make predictions for us!"
   ]
  },
  {
   "cell_type": "markdown",
   "id": "a998d90f",
   "metadata": {},
   "source": [
    "### Preparing our data for Prophet\n",
    "\n",
    "If we check the official [Prophet docs](https://facebook.github.io/prophet/docs/quick_start.html) we will see that there's a few conditions it asks of us:\n",
    "\n",
    "1. Prophet needs the **datetime** column to be called `ds`\n",
    "2. Prophet needs the **observations** column to be called `y`"
   ]
  },
  {
   "cell_type": "markdown",
   "id": "ceb3193a",
   "metadata": {},
   "source": [
    "First of all let's rename our columns correctly. That's as easy as just assigning a new list of columns, like this:\n",
    "\n",
    "```python\n",
    "df.columns = ['column1', 'column2']\n",
    "```"
   ]
  },
  {
   "cell_type": "code",
   "execution_count": 20,
   "id": "24ef5326",
   "metadata": {},
   "outputs": [],
   "source": [
    "# Assign the right column names here :)"
   ]
  },
  {
   "cell_type": "markdown",
   "id": "0f6e65b8",
   "metadata": {},
   "source": [
    "<details><summary>Solution</summary>\n",
    "    \n",
    "<pre>\n",
    "df.columns = ['ds', 'y']\n",
    "</pre>\n",
    "    \n",
    "</details>\n"
   ]
  },
  {
   "cell_type": "markdown",
   "id": "8c058fda",
   "metadata": {},
   "source": [
    "You might have noticed that our `Month` column (now called `ds`) doesn't have the right data type - it's current type is `object`. That's because `pandas` by default only sees text (which it calls `object`) and numbers.\n",
    "\n",
    "We can use the built-in [pandas.to_datetime()](https://pandas.pydata.org/pandas-docs/stable/reference/api/pandas.to_datetime.html) function to quickly change that! Notice that by itself, `pd.to_datetime()` function creates a *copy* of the column, so we need to save it back to the original columns, like so:"
   ]
  },
  {
   "cell_type": "code",
   "execution_count": 19,
   "id": "c2c1feda",
   "metadata": {
    "collapsed": true
   },
   "outputs": [
    {
     "data": {
      "text/plain": [
       "ds    datetime64[ns]\n",
       "y              int64\n",
       "dtype: object"
      ]
     },
     "execution_count": 19,
     "metadata": {},
     "output_type": "execute_result"
    }
   ],
   "source": [
    "df['ds'] = pd.to_datetime(df['ds'])\n",
    "df.dtypes"
   ]
  },
  {
   "cell_type": "markdown",
   "id": "3881e4d7",
   "metadata": {},
   "source": [
    "Normally, we would also have to change our DataFrame to match the structure we saw in the slides like this one:\n",
    "\n",
    "<img src=\"images/timeseriesdata.png\" width=350/>"
   ]
  },
  {
   "cell_type": "markdown",
   "id": "76b7e11d",
   "metadata": {},
   "source": [
    "**But** the amazing `fbprophet` does that for us! Which means we are ready to start **Machine Learning** 🤖"
   ]
  },
  {
   "cell_type": "markdown",
   "id": "ea31cfe6",
   "metadata": {},
   "source": [
    "### Creating the Prophet prediction model"
   ]
  },
  {
   "cell_type": "markdown",
   "id": "571fbc7c",
   "metadata": {},
   "source": [
    "All Machine Learning tasks consist of the same steps:\n",
    "\n",
    "1. Creating the model\n",
    "2. Training the model (that's what takes the most time)\n",
    "3. Using the model to predict\n",
    "4. Evaluating the performance of the model\n",
    "\n",
    "So, what are we waiting for?"
   ]
  },
  {
   "cell_type": "markdown",
   "id": "6493d2e6",
   "metadata": {},
   "source": [
    "**1. Creating the model**"
   ]
  },
  {
   "cell_type": "markdown",
   "id": "76a8861c",
   "metadata": {},
   "source": [
    "At the top of this notebook we imported the `Prophet` *class*. This class is the \"factory\" which can help us create Prophet models. This is how it looks like:"
   ]
  },
  {
   "cell_type": "code",
   "execution_count": 21,
   "id": "2551607c",
   "metadata": {},
   "outputs": [],
   "source": [
    "model = Prophet()"
   ]
  },
  {
   "cell_type": "markdown",
   "id": "a64de88e",
   "metadata": {},
   "source": [
    "**2. Training the model**\n",
    "\n",
    "We have a `model` ready, but it is not trained yet. That's our next step - we will give it our `df` DataFrame to *fit* an algorithm, which the machine will observe fits best all the historic observations we have."
   ]
  },
  {
   "cell_type": "code",
   "execution_count": 22,
   "id": "55092f20",
   "metadata": {},
   "outputs": [
    {
     "name": "stderr",
     "output_type": "stream",
     "text": [
      "INFO:fbprophet:Disabling weekly seasonality. Run prophet with weekly_seasonality=True to override this.\n",
      "INFO:fbprophet:Disabling daily seasonality. Run prophet with daily_seasonality=True to override this.\n"
     ]
    },
    {
     "data": {
      "text/plain": [
       "<fbprophet.forecaster.Prophet at 0x111de18b0>"
      ]
     },
     "execution_count": 22,
     "metadata": {},
     "output_type": "execute_result"
    }
   ],
   "source": [
    "model.fit(df)"
   ]
  },
  {
   "cell_type": "markdown",
   "id": "6c8c481d",
   "metadata": {},
   "source": [
    "**Boom 💥** our `model` has found a \"logic\" that best explains the historic sales data. Now the caveat of Machine Learning in general is that often that \"logic\" is a **black box** ◼️ The model finds a formula that works for it, but as people we don't have much visibility into it.\n",
    "\n",
    "But we can leverage it for **predictions!** 🔮"
   ]
  },
  {
   "cell_type": "markdown",
   "id": "8897ca8c",
   "metadata": {},
   "source": [
    "### Forecasting and predictions"
   ]
  },
  {
   "cell_type": "markdown",
   "id": "9b9390c5",
   "metadata": {},
   "source": [
    "When we talk about doing predictions programmatically, we talk about two types of predictions:\n",
    "\n",
    "1. **In-sample** - we remove part of our historic data, and predict it with the model, to see how well it does\n",
    "2. **Out-of-sample** (future predictions) - after verifying that our model \"makes sense\", we use it to generate future predictions"
   ]
  },
  {
   "cell_type": "markdown",
   "id": "369c969b",
   "metadata": {},
   "source": [
    "**In-sample** - Let's take the last 12 months of our existing dataset, and see how close are our model's predictions to the real sales"
   ]
  },
  {
   "cell_type": "markdown",
   "id": "7e75a345",
   "metadata": {},
   "source": [
    "We can slice our DataFrame not only by columns (ex. `df['column']`) but also by rows, like this:"
   ]
  },
  {
   "cell_type": "code",
   "execution_count": 23,
   "id": "db747c9b",
   "metadata": {
    "collapsed": true
   },
   "outputs": [
    {
     "data": {
      "text/html": [
       "<div>\n",
       "<style scoped>\n",
       "    .dataframe tbody tr th:only-of-type {\n",
       "        vertical-align: middle;\n",
       "    }\n",
       "\n",
       "    .dataframe tbody tr th {\n",
       "        vertical-align: top;\n",
       "    }\n",
       "\n",
       "    .dataframe thead th {\n",
       "        text-align: right;\n",
       "    }\n",
       "</style>\n",
       "<table border=\"1\" class=\"dataframe\">\n",
       "  <thead>\n",
       "    <tr style=\"text-align: right;\">\n",
       "      <th></th>\n",
       "      <th>ds</th>\n",
       "      <th>y</th>\n",
       "    </tr>\n",
       "  </thead>\n",
       "  <tbody>\n",
       "    <tr>\n",
       "      <th>100</th>\n",
       "      <td>1968-05-01</td>\n",
       "      <td>26099</td>\n",
       "    </tr>\n",
       "    <tr>\n",
       "      <th>101</th>\n",
       "      <td>1968-06-01</td>\n",
       "      <td>21084</td>\n",
       "    </tr>\n",
       "  </tbody>\n",
       "</table>\n",
       "</div>"
      ],
      "text/plain": [
       "            ds      y\n",
       "100 1968-05-01  26099\n",
       "101 1968-06-01  21084"
      ]
     },
     "execution_count": 23,
     "metadata": {},
     "output_type": "execute_result"
    }
   ],
   "source": [
    "df[100:102]"
   ]
  },
  {
   "cell_type": "markdown",
   "id": "0dff763f",
   "metadata": {},
   "source": [
    "**Your turn! 🚀** So how do we get the **last 12 months** of the our DataFrame? 🤔\n",
    "\n"
   ]
  },
  {
   "cell_type": "code",
   "execution_count": 25,
   "id": "30b2a409",
   "metadata": {
    "collapsed": true
   },
   "outputs": [
    {
     "data": {
      "text/html": [
       "<div>\n",
       "<style scoped>\n",
       "    .dataframe tbody tr th:only-of-type {\n",
       "        vertical-align: middle;\n",
       "    }\n",
       "\n",
       "    .dataframe tbody tr th {\n",
       "        vertical-align: top;\n",
       "    }\n",
       "\n",
       "    .dataframe thead th {\n",
       "        text-align: right;\n",
       "    }\n",
       "</style>\n",
       "<table border=\"1\" class=\"dataframe\">\n",
       "  <thead>\n",
       "    <tr style=\"text-align: right;\">\n",
       "      <th></th>\n",
       "      <th>ds</th>\n",
       "      <th>y</th>\n",
       "    </tr>\n",
       "  </thead>\n",
       "  <tbody>\n",
       "    <tr>\n",
       "      <th>96</th>\n",
       "      <td>1968-01-01</td>\n",
       "      <td>13210</td>\n",
       "    </tr>\n",
       "    <tr>\n",
       "      <th>97</th>\n",
       "      <td>1968-02-01</td>\n",
       "      <td>14251</td>\n",
       "    </tr>\n",
       "    <tr>\n",
       "      <th>98</th>\n",
       "      <td>1968-03-01</td>\n",
       "      <td>20139</td>\n",
       "    </tr>\n",
       "    <tr>\n",
       "      <th>99</th>\n",
       "      <td>1968-04-01</td>\n",
       "      <td>21725</td>\n",
       "    </tr>\n",
       "    <tr>\n",
       "      <th>100</th>\n",
       "      <td>1968-05-01</td>\n",
       "      <td>26099</td>\n",
       "    </tr>\n",
       "    <tr>\n",
       "      <th>101</th>\n",
       "      <td>1968-06-01</td>\n",
       "      <td>21084</td>\n",
       "    </tr>\n",
       "    <tr>\n",
       "      <th>102</th>\n",
       "      <td>1968-07-01</td>\n",
       "      <td>18024</td>\n",
       "    </tr>\n",
       "    <tr>\n",
       "      <th>103</th>\n",
       "      <td>1968-08-01</td>\n",
       "      <td>16722</td>\n",
       "    </tr>\n",
       "    <tr>\n",
       "      <th>104</th>\n",
       "      <td>1968-09-01</td>\n",
       "      <td>14385</td>\n",
       "    </tr>\n",
       "    <tr>\n",
       "      <th>105</th>\n",
       "      <td>1968-10-01</td>\n",
       "      <td>21342</td>\n",
       "    </tr>\n",
       "    <tr>\n",
       "      <th>106</th>\n",
       "      <td>1968-11-01</td>\n",
       "      <td>17180</td>\n",
       "    </tr>\n",
       "    <tr>\n",
       "      <th>107</th>\n",
       "      <td>1968-12-01</td>\n",
       "      <td>14577</td>\n",
       "    </tr>\n",
       "  </tbody>\n",
       "</table>\n",
       "</div>"
      ],
      "text/plain": [
       "            ds      y\n",
       "96  1968-01-01  13210\n",
       "97  1968-02-01  14251\n",
       "98  1968-03-01  20139\n",
       "99  1968-04-01  21725\n",
       "100 1968-05-01  26099\n",
       "101 1968-06-01  21084\n",
       "102 1968-07-01  18024\n",
       "103 1968-08-01  16722\n",
       "104 1968-09-01  14385\n",
       "105 1968-10-01  21342\n",
       "106 1968-11-01  17180\n",
       "107 1968-12-01  14577"
      ]
     },
     "execution_count": 25,
     "metadata": {},
     "output_type": "execute_result"
    }
   ],
   "source": [
    "# your code here\n",
    "sample = df[96:108]\n",
    "sample"
   ]
  },
  {
   "cell_type": "markdown",
   "id": "b5e21f17",
   "metadata": {},
   "source": [
    "<details><summary>Solution</summary>\n",
    "    \n",
    "<pre>\n",
    "sample = df[96:108]\n",
    "sample\n",
    "</pre>\n",
    "    \n",
    "</details>\n"
   ]
  },
  {
   "cell_type": "markdown",
   "id": "ef42ef92",
   "metadata": {},
   "source": [
    "We are now ready to create a **forecast** - a DataFrame with predictions from our Prophet model.\n",
    "\n",
    "*P.S.* we want the result to be a DataFrame with one column - `ds` - not just one list of dates. So we select the needed column below with double-brackets, like `[['ds]]`"
   ]
  },
  {
   "cell_type": "code",
   "execution_count": 26,
   "id": "d0b04a0b",
   "metadata": {
    "collapsed": true
   },
   "outputs": [
    {
     "data": {
      "text/html": [
       "<div>\n",
       "<style scoped>\n",
       "    .dataframe tbody tr th:only-of-type {\n",
       "        vertical-align: middle;\n",
       "    }\n",
       "\n",
       "    .dataframe tbody tr th {\n",
       "        vertical-align: top;\n",
       "    }\n",
       "\n",
       "    .dataframe thead th {\n",
       "        text-align: right;\n",
       "    }\n",
       "</style>\n",
       "<table border=\"1\" class=\"dataframe\">\n",
       "  <thead>\n",
       "    <tr style=\"text-align: right;\">\n",
       "      <th></th>\n",
       "      <th>ds</th>\n",
       "      <th>trend</th>\n",
       "      <th>yhat_lower</th>\n",
       "      <th>yhat_upper</th>\n",
       "      <th>trend_lower</th>\n",
       "      <th>trend_upper</th>\n",
       "      <th>additive_terms</th>\n",
       "      <th>additive_terms_lower</th>\n",
       "      <th>additive_terms_upper</th>\n",
       "      <th>yearly</th>\n",
       "      <th>yearly_lower</th>\n",
       "      <th>yearly_upper</th>\n",
       "      <th>multiplicative_terms</th>\n",
       "      <th>multiplicative_terms_lower</th>\n",
       "      <th>multiplicative_terms_upper</th>\n",
       "      <th>yhat</th>\n",
       "    </tr>\n",
       "  </thead>\n",
       "  <tbody>\n",
       "    <tr>\n",
       "      <th>0</th>\n",
       "      <td>1968-01-01</td>\n",
       "      <td>17828.710155</td>\n",
       "      <td>12743.519618</td>\n",
       "      <td>15900.277695</td>\n",
       "      <td>17828.710155</td>\n",
       "      <td>17828.710155</td>\n",
       "      <td>-3465.153499</td>\n",
       "      <td>-3465.153499</td>\n",
       "      <td>-3465.153499</td>\n",
       "      <td>-3465.153499</td>\n",
       "      <td>-3465.153499</td>\n",
       "      <td>-3465.153499</td>\n",
       "      <td>0.0</td>\n",
       "      <td>0.0</td>\n",
       "      <td>0.0</td>\n",
       "      <td>14363.556656</td>\n",
       "    </tr>\n",
       "    <tr>\n",
       "      <th>1</th>\n",
       "      <td>1968-02-01</td>\n",
       "      <td>17884.988160</td>\n",
       "      <td>13444.626932</td>\n",
       "      <td>16522.320201</td>\n",
       "      <td>17884.988160</td>\n",
       "      <td>17884.988160</td>\n",
       "      <td>-2955.538351</td>\n",
       "      <td>-2955.538351</td>\n",
       "      <td>-2955.538351</td>\n",
       "      <td>-2955.538351</td>\n",
       "      <td>-2955.538351</td>\n",
       "      <td>-2955.538351</td>\n",
       "      <td>0.0</td>\n",
       "      <td>0.0</td>\n",
       "      <td>0.0</td>\n",
       "      <td>14929.449809</td>\n",
       "    </tr>\n",
       "    <tr>\n",
       "      <th>2</th>\n",
       "      <td>1968-03-01</td>\n",
       "      <td>17937.635326</td>\n",
       "      <td>19363.594958</td>\n",
       "      <td>22449.947855</td>\n",
       "      <td>17937.635326</td>\n",
       "      <td>17937.635326</td>\n",
       "      <td>2955.781853</td>\n",
       "      <td>2955.781853</td>\n",
       "      <td>2955.781853</td>\n",
       "      <td>2955.781853</td>\n",
       "      <td>2955.781853</td>\n",
       "      <td>2955.781853</td>\n",
       "      <td>0.0</td>\n",
       "      <td>0.0</td>\n",
       "      <td>0.0</td>\n",
       "      <td>20893.417179</td>\n",
       "    </tr>\n",
       "    <tr>\n",
       "      <th>3</th>\n",
       "      <td>1968-04-01</td>\n",
       "      <td>17993.913331</td>\n",
       "      <td>21333.245821</td>\n",
       "      <td>24347.395442</td>\n",
       "      <td>17993.913331</td>\n",
       "      <td>17993.913331</td>\n",
       "      <td>4916.601914</td>\n",
       "      <td>4916.601914</td>\n",
       "      <td>4916.601914</td>\n",
       "      <td>4916.601914</td>\n",
       "      <td>4916.601914</td>\n",
       "      <td>4916.601914</td>\n",
       "      <td>0.0</td>\n",
       "      <td>0.0</td>\n",
       "      <td>0.0</td>\n",
       "      <td>22910.515245</td>\n",
       "    </tr>\n",
       "    <tr>\n",
       "      <th>4</th>\n",
       "      <td>1968-05-01</td>\n",
       "      <td>18048.375916</td>\n",
       "      <td>22592.957896</td>\n",
       "      <td>25784.400221</td>\n",
       "      <td>18048.375916</td>\n",
       "      <td>18048.375916</td>\n",
       "      <td>6152.408446</td>\n",
       "      <td>6152.408446</td>\n",
       "      <td>6152.408446</td>\n",
       "      <td>6152.408446</td>\n",
       "      <td>6152.408446</td>\n",
       "      <td>6152.408446</td>\n",
       "      <td>0.0</td>\n",
       "      <td>0.0</td>\n",
       "      <td>0.0</td>\n",
       "      <td>24200.784363</td>\n",
       "    </tr>\n",
       "  </tbody>\n",
       "</table>\n",
       "</div>"
      ],
      "text/plain": [
       "          ds         trend    yhat_lower    yhat_upper   trend_lower  \\\n",
       "0 1968-01-01  17828.710155  12743.519618  15900.277695  17828.710155   \n",
       "1 1968-02-01  17884.988160  13444.626932  16522.320201  17884.988160   \n",
       "2 1968-03-01  17937.635326  19363.594958  22449.947855  17937.635326   \n",
       "3 1968-04-01  17993.913331  21333.245821  24347.395442  17993.913331   \n",
       "4 1968-05-01  18048.375916  22592.957896  25784.400221  18048.375916   \n",
       "\n",
       "    trend_upper  additive_terms  additive_terms_lower  additive_terms_upper  \\\n",
       "0  17828.710155    -3465.153499          -3465.153499          -3465.153499   \n",
       "1  17884.988160    -2955.538351          -2955.538351          -2955.538351   \n",
       "2  17937.635326     2955.781853           2955.781853           2955.781853   \n",
       "3  17993.913331     4916.601914           4916.601914           4916.601914   \n",
       "4  18048.375916     6152.408446           6152.408446           6152.408446   \n",
       "\n",
       "        yearly  yearly_lower  yearly_upper  multiplicative_terms  \\\n",
       "0 -3465.153499  -3465.153499  -3465.153499                   0.0   \n",
       "1 -2955.538351  -2955.538351  -2955.538351                   0.0   \n",
       "2  2955.781853   2955.781853   2955.781853                   0.0   \n",
       "3  4916.601914   4916.601914   4916.601914                   0.0   \n",
       "4  6152.408446   6152.408446   6152.408446                   0.0   \n",
       "\n",
       "   multiplicative_terms_lower  multiplicative_terms_upper          yhat  \n",
       "0                         0.0                         0.0  14363.556656  \n",
       "1                         0.0                         0.0  14929.449809  \n",
       "2                         0.0                         0.0  20893.417179  \n",
       "3                         0.0                         0.0  22910.515245  \n",
       "4                         0.0                         0.0  24200.784363  "
      ]
     },
     "execution_count": 26,
     "metadata": {},
     "output_type": "execute_result"
    }
   ],
   "source": [
    "forecast = model.predict(sample[['ds']])\n",
    "forecast.head()"
   ]
  },
  {
   "cell_type": "markdown",
   "id": "b4301cf3",
   "metadata": {},
   "source": [
    "Wow that's a lot of stuff 🤯 We will explore what is what in a minute, but first let's first **visualize** our predictions, which would be much more human."
   ]
  },
  {
   "cell_type": "code",
   "execution_count": 27,
   "id": "a9acd102",
   "metadata": {
    "collapsed": true
   },
   "outputs": [
    {
     "data": {
      "image/png": "[encoded data removed]",
      "text/plain": [
       "<Figure size 720x432 with 1 Axes>"
      ]
     },
     "metadata": {},
     "output_type": "display_data"
    }
   ],
   "source": [
    "model.plot(forecast);"
   ]
  },
  {
   "cell_type": "markdown",
   "id": "be7eb7b1",
   "metadata": {},
   "source": [
    "The black dots in the chart above is the real data points. \n",
    "\n",
    "The <span style='color: darkblue;'>dark blue line</span> is the predicted value - it's a line chart between the `yhat` points that we saw in the `forecast` DataFrame above.\n",
    "\n",
    "The <span style='color: lightblue;'>light blue area</span> is the **confidence interval** - typically a 95% confidence window of the model prediction."
   ]
  },
  {
   "cell_type": "markdown",
   "id": "07ab0ceb",
   "metadata": {},
   "source": [
    "**[Bonus 🥇]** We can also add a **line chart** for the historic data to make it more visual:"
   ]
  },
  {
   "cell_type": "code",
   "execution_count": 28,
   "id": "61a376aa",
   "metadata": {
    "collapsed": true
   },
   "outputs": [
    {
     "data": {
      "image/png": "[encoded data removed]",
      "text/plain": [
       "<Figure size 720x432 with 1 Axes>"
      ]
     },
     "metadata": {},
     "output_type": "display_data"
    }
   ],
   "source": [
    "ax = model.plot(forecast).gca()\n",
    "df.plot(ax=ax, x='ds', y='y', label='actual', color='g');"
   ]
  },
  {
   "cell_type": "markdown",
   "id": "f34ea129",
   "metadata": {},
   "source": [
    "**[Bonus Bonus 💥]** Looks like our model is fitting quite well! But **how well?** 🤔\n",
    "\n",
    "We have the real data (`y` column) from our `sample`, and we have the predicted `yhat` from `forecast`.  Let's see the differences!"
   ]
  },
  {
   "cell_type": "code",
   "execution_count": 30,
   "id": "d70592a7",
   "metadata": {
    "collapsed": true
   },
   "outputs": [
    {
     "data": {
      "text/plain": [
       "array([ 1153.55665591,   678.44980919,   754.4171788 ,  1185.51524497,\n",
       "       -1898.21563748,   -29.7775252 ,  -378.53812546, -1377.43395777,\n",
       "        -609.74190773, -3155.89315927,   256.78548615,  1109.90825811])"
      ]
     },
     "execution_count": 30,
     "metadata": {},
     "output_type": "execute_result"
    }
   ],
   "source": [
    "difference = forecast['yhat'].values - sample['y'].values\n",
    "difference"
   ]
  },
  {
   "cell_type": "markdown",
   "id": "71b49d64",
   "metadata": {},
   "source": [
    "From the above result we can see the **errors** - the difference between the predicted and actual car sales for the last 12 months.\n",
    "\n",
    "Considering our car sales those months are between 15,000 ~ 25,000 cars, getting errors <1000 cars for most months is pretty great (for 20 minutes of work)! 🥳"
   ]
  },
  {
   "cell_type": "markdown",
   "id": "7aa1cf69",
   "metadata": {},
   "source": [
    "Remember that this was the **in-sample** prediction. Now let's move on to **future forecasting! 🕵️‍♂️**"
   ]
  },
  {
   "cell_type": "markdown",
   "id": "8a0340e1",
   "metadata": {},
   "source": [
    "### Future Forecasting - out-of-sample (new data) predictions"
   ]
  },
  {
   "cell_type": "markdown",
   "id": "961089bc",
   "metadata": {},
   "source": [
    "Luckily `fbprophet` comes with some amazing tools for predictions, including the [`make_future_dataframe()`](https://facebook.github.io/prophet/docs/non-daily_data.html) method which allows us to quickly create a set of future dates to use for prediction. And it automatically turns it into a `DataFrame` 🙌"
   ]
  },
  {
   "cell_type": "code",
   "execution_count": 35,
   "id": "c717ab58",
   "metadata": {
    "collapsed": true
   },
   "outputs": [
    {
     "data": {
      "text/html": [
       "<div>\n",
       "<style scoped>\n",
       "    .dataframe tbody tr th:only-of-type {\n",
       "        vertical-align: middle;\n",
       "    }\n",
       "\n",
       "    .dataframe tbody tr th {\n",
       "        vertical-align: top;\n",
       "    }\n",
       "\n",
       "    .dataframe thead th {\n",
       "        text-align: right;\n",
       "    }\n",
       "</style>\n",
       "<table border=\"1\" class=\"dataframe\">\n",
       "  <thead>\n",
       "    <tr style=\"text-align: right;\">\n",
       "      <th></th>\n",
       "      <th>ds</th>\n",
       "    </tr>\n",
       "  </thead>\n",
       "  <tbody>\n",
       "    <tr>\n",
       "      <th>0</th>\n",
       "      <td>1960-01-01</td>\n",
       "    </tr>\n",
       "    <tr>\n",
       "      <th>1</th>\n",
       "      <td>1960-02-01</td>\n",
       "    </tr>\n",
       "    <tr>\n",
       "      <th>2</th>\n",
       "      <td>1960-03-01</td>\n",
       "    </tr>\n",
       "    <tr>\n",
       "      <th>3</th>\n",
       "      <td>1960-04-01</td>\n",
       "    </tr>\n",
       "    <tr>\n",
       "      <th>4</th>\n",
       "      <td>1960-05-01</td>\n",
       "    </tr>\n",
       "    <tr>\n",
       "      <th>...</th>\n",
       "      <td>...</td>\n",
       "    </tr>\n",
       "    <tr>\n",
       "      <th>127</th>\n",
       "      <td>1970-08-01</td>\n",
       "    </tr>\n",
       "    <tr>\n",
       "      <th>128</th>\n",
       "      <td>1970-09-01</td>\n",
       "    </tr>\n",
       "    <tr>\n",
       "      <th>129</th>\n",
       "      <td>1970-10-01</td>\n",
       "    </tr>\n",
       "    <tr>\n",
       "      <th>130</th>\n",
       "      <td>1970-11-01</td>\n",
       "    </tr>\n",
       "    <tr>\n",
       "      <th>131</th>\n",
       "      <td>1970-12-01</td>\n",
       "    </tr>\n",
       "  </tbody>\n",
       "</table>\n",
       "<p>132 rows × 1 columns</p>\n",
       "</div>"
      ],
      "text/plain": [
       "            ds\n",
       "0   1960-01-01\n",
       "1   1960-02-01\n",
       "2   1960-03-01\n",
       "3   1960-04-01\n",
       "4   1960-05-01\n",
       "..         ...\n",
       "127 1970-08-01\n",
       "128 1970-09-01\n",
       "129 1970-10-01\n",
       "130 1970-11-01\n",
       "131 1970-12-01\n",
       "\n",
       "[132 rows x 1 columns]"
      ]
     },
     "execution_count": 35,
     "metadata": {},
     "output_type": "execute_result"
    }
   ],
   "source": [
    "future = model.make_future_dataframe(freq='MS', periods=24)\n",
    "future"
   ]
  },
  {
   "cell_type": "markdown",
   "id": "38f12c18",
   "metadata": {},
   "source": [
    "You'll see that what it does is **append** the new months to the existing data - very useful, since we want to connect the two for an uninterrupted chart."
   ]
  },
  {
   "cell_type": "markdown",
   "id": "b6b200b6",
   "metadata": {},
   "source": [
    "The prediction code is the same as before, only now we will be using the `future` DataFrame, not the `sample` any more."
   ]
  },
  {
   "cell_type": "code",
   "execution_count": 45,
   "id": "1569ade4",
   "metadata": {},
   "outputs": [],
   "source": [
    "# Your code here"
   ]
  },
  {
   "cell_type": "markdown",
   "id": "3ecf7707",
   "metadata": {},
   "source": [
    "<details><summary>Solution</summary>\n",
    "    \n",
    "<pre>\n",
    "future_forecast = model.predict(future)\n",
    "</pre>\n",
    "    \n",
    "</details>"
   ]
  },
  {
   "cell_type": "markdown",
   "id": "2f9c8f4a",
   "metadata": {},
   "source": [
    "Let's go ahead and plot it same way as we did before with the `model`."
   ]
  },
  {
   "cell_type": "code",
   "execution_count": 40,
   "id": "510fade9",
   "metadata": {},
   "outputs": [],
   "source": [
    "# Your code here"
   ]
  },
  {
   "cell_type": "markdown",
   "id": "246f91d9",
   "metadata": {},
   "source": [
    "<details><summary>Solution</summary>\n",
    "    \n",
    "<pre>\n",
    "model.plot(future_forecast);\n",
    "</pre>\n",
    "    \n",
    "</details>"
   ]
  },
  {
   "cell_type": "markdown",
   "id": "7605a8df",
   "metadata": {},
   "source": [
    "### Congrats! 👏 This is your first prediction on unseen data!\n",
    "\n",
    "You can also see how the model looks for patterns in historic data, but without **overfitting** - you can see that some black dots are not covered by the blue area. Which is normal, because not every month of car sales follows the same pattern, we've all had better and worse months 😉\n",
    "\n",
    "**Let's explore our results further**"
   ]
  },
  {
   "cell_type": "markdown",
   "id": "9a1b5c9c",
   "metadata": {},
   "source": [
    "### Seasonality and Trend"
   ]
  },
  {
   "cell_type": "markdown",
   "id": "c4361eba",
   "metadata": {},
   "source": [
    "To understand our results better, we need to explore the **components** that influence our car sales. The main two are seasonality and trend:\n",
    "\n",
    "- **Seasonality** is the waves in our data. Looking at those can help find patterns of highs and lows.\n",
    "- **Trend** is the general direction of the data. This helps us see whether we're increasing or decreasing over time."
   ]
  },
  {
   "cell_type": "markdown",
   "id": "90615901",
   "metadata": {},
   "source": [
    "And again `fbprophet` has helpful functions ready to use - let's use the [`plot_components()`](https://facebook.github.io/prophet/docs/seasonality,_holiday_effects,_and_regressors.html) function on our `model`."
   ]
  },
  {
   "cell_type": "code",
   "execution_count": 46,
   "id": "9d7671c0",
   "metadata": {
    "collapsed": true
   },
   "outputs": [
    {
     "data": {
      "image/png": "[encoded data removed]",
      "text/plain": [
       "<Figure size 648x432 with 2 Axes>"
      ]
     },
     "metadata": {},
     "output_type": "display_data"
    }
   ],
   "source": [
    "model.plot_components(future_forecast);"
   ]
  },
  {
   "cell_type": "markdown",
   "id": "a9712e18",
   "metadata": {},
   "source": [
    "**[Bonus 🥇]** We can make our plots interactive with another Python library called [Plotly](https://plotly.com/python/):"
   ]
  },
  {
   "cell_type": "code",
   "execution_count": 47,
   "id": "d0797fb0",
   "metadata": {
    "collapsed": true
   },
   "outputs": [
    {
     "data": {
      "application/vnd.plotly.v1+json": {
       "config": {
        "plotlyServerURL": "https://plot.ly"
       },
       "data": [
        {
         "marker": {
          "color": "black",
          "size": 4
         },
         "mode": "markers",
         "name": "Actual",
         "type": "scatter",
         "x": [
          "1960-01-01T00:00:00",
          "1960-02-01T00:00:00",
          "1960-03-01T00:00:00",
          "1960-04-01T00:00:00",
          "1960-05-01T00:00:00",
          "1960-06-01T00:00:00",
          "1960-07-01T00:00:00",
          "1960-08-01T00:00:00",
          "1960-09-01T00:00:00",
          "1960-10-01T00:00:00",
          "1960-11-01T00:00:00",
          "1960-12-01T00:00:00",
          "1961-01-01T00:00:00",
          "1961-02-01T00:00:00",
          "1961-03-01T00:00:00",
          "1961-04-01T00:00:00",
          "1961-05-01T00:00:00",
          "1961-06-01T00:00:00",
          "1961-07-01T00:00:00",
          "1961-08-01T00:00:00",
          "1961-09-01T00:00:00",
          "1961-10-01T00:00:00",
          "1961-11-01T00:00:00",
          "1961-12-01T00:00:00",
          "1962-01-01T00:00:00",
          "1962-02-01T00:00:00",
          "1962-03-01T00:00:00",
          "1962-04-01T00:00:00",
          "1962-05-01T00:00:00",
          "1962-06-01T00:00:00",
          "1962-07-01T00:00:00",
          "1962-08-01T00:00:00",
          "1962-09-01T00:00:00",
          "1962-10-01T00:00:00",
          "1962-11-01T00:00:00",
          "1962-12-01T00:00:00",
          "1963-01-01T00:00:00",
          "1963-02-01T00:00:00",
          "1963-03-01T00:00:00",
          "1963-04-01T00:00:00",
          "1963-05-01T00:00:00",
          "1963-06-01T00:00:00",
          "1963-07-01T00:00:00",
          "1963-08-01T00:00:00",
          "1963-09-01T00:00:00",
          "1963-10-01T00:00:00",
          "1963-11-01T00:00:00",
          "1963-12-01T00:00:00",
          "1964-01-01T00:00:00",
          "1964-02-01T00:00:00",
          "1964-03-01T00:00:00",
          "1964-04-01T00:00:00",
          "1964-05-01T00:00:00",
          "1964-06-01T00:00:00",
          "1964-07-01T00:00:00",
          "1964-08-01T00:00:00",
          "1964-09-01T00:00:00",
          "1964-10-01T00:00:00",
          "1964-11-01T00:00:00",
          "1964-12-01T00:00:00",
          "1965-01-01T00:00:00",
          "1965-02-01T00:00:00",
          "1965-03-01T00:00:00",
          "1965-04-01T00:00:00",
          "1965-05-01T00:00:00",
          "1965-06-01T00:00:00",
          "1965-07-01T00:00:00",
          "1965-08-01T00:00:00",
          "1965-09-01T00:00:00",
          "1965-10-01T00:00:00",
          "1965-11-01T00:00:00",
          "1965-12-01T00:00:00",
          "1966-01-01T00:00:00",
          "1966-02-01T00:00:00",
          "1966-03-01T00:00:00",
          "1966-04-01T00:00:00",
          "1966-05-01T00:00:00",
          "1966-06-01T00:00:00",
          "1966-07-01T00:00:00",
          "1966-08-01T00:00:00",
          "1966-09-01T00:00:00",
          "1966-10-01T00:00:00",
          "1966-11-01T00:00:00",
          "1966-12-01T00:00:00",
          "1967-01-01T00:00:00",
          "1967-02-01T00:00:00",
          "1967-03-01T00:00:00",
          "1967-04-01T00:00:00",
          "1967-05-01T00:00:00",
          "1967-06-01T00:00:00",
          "1967-07-01T00:00:00",
          "1967-08-01T00:00:00",
          "1967-09-01T00:00:00",
          "1967-10-01T00:00:00",
          "1967-11-01T00:00:00",
          "1967-12-01T00:00:00",
          "1968-01-01T00:00:00",
          "1968-02-01T00:00:00",
          "1968-03-01T00:00:00",
          "1968-04-01T00:00:00",
          "1968-05-01T00:00:00",
          "1968-06-01T00:00:00",
          "1968-07-01T00:00:00",
          "1968-08-01T00:00:00",
          "1968-09-01T00:00:00",
          "1968-10-01T00:00:00",
          "1968-11-01T00:00:00",
          "1968-12-01T00:00:00"
         ],
         "y": [
          6550,
          8728,
          12026,
          14395,
          14587,
          13791,
          9498,
          8251,
          7049,
          9545,
          9364,
          8456,
          7237,
          9374,
          11837,
          13784,
          15926,
          13821,
          11143,
          7975,
          7610,
          10015,
          12759,
          8816,
          10677,
          10947,
          15200,
          17010,
          20900,
          16205,
          12143,
          8997,
          5568,
          11474,
          12256,
          10583,
          10862,
          10965,
          14405,
          20379,
          20128,
          17816,
          12268,
          8642,
          7962,
          13932,
          15936,
          12628,
          12267,
          12470,
          18944,
          21259,
          22015,
          18581,
          15175,
          10306,
          10792,
          14752,
          13754,
          11738,
          12181,
          12965,
          19990,
          23125,
          23541,
          21247,
          15189,
          14767,
          10895,
          17130,
          17697,
          16611,
          12674,
          12760,
          20249,
          22135,
          20677,
          19933,
          15388,
          15113,
          13401,
          16135,
          17562,
          14720,
          12225,
          11608,
          20985,
          19692,
          24081,
          22114,
          14220,
          13434,
          13598,
          17187,
          16119,
          13713,
          13210,
          14251,
          20139,
          21725,
          26099,
          21084,
          18024,
          16722,
          14385,
          21342,
          17180,
          14577
         ]
        },
        {
         "hoverinfo": "skip",
         "line": {
          "width": 0
         },
         "mode": "lines",
         "type": "scatter",
         "x": [
          "1960-01-01T00:00:00",
          "1960-02-01T00:00:00",
          "1960-03-01T00:00:00",
          "1960-04-01T00:00:00",
          "1960-05-01T00:00:00",
          "1960-06-01T00:00:00",
          "1960-07-01T00:00:00",
          "1960-08-01T00:00:00",
          "1960-09-01T00:00:00",
          "1960-10-01T00:00:00",
          "1960-11-01T00:00:00",
          "1960-12-01T00:00:00",
          "1961-01-01T00:00:00",
          "1961-02-01T00:00:00",
          "1961-03-01T00:00:00",
          "1961-04-01T00:00:00",
          "1961-05-01T00:00:00",
          "1961-06-01T00:00:00",
          "1961-07-01T00:00:00",
          "1961-08-01T00:00:00",
          "1961-09-01T00:00:00",
          "1961-10-01T00:00:00",
          "1961-11-01T00:00:00",
          "1961-12-01T00:00:00",
          "1962-01-01T00:00:00",
          "1962-02-01T00:00:00",
          "1962-03-01T00:00:00",
          "1962-04-01T00:00:00",
          "1962-05-01T00:00:00",
          "1962-06-01T00:00:00",
          "1962-07-01T00:00:00",
          "1962-08-01T00:00:00",
          "1962-09-01T00:00:00",
          "1962-10-01T00:00:00",
          "1962-11-01T00:00:00",
          "1962-12-01T00:00:00",
          "1963-01-01T00:00:00",
          "1963-02-01T00:00:00",
          "1963-03-01T00:00:00",
          "1963-04-01T00:00:00",
          "1963-05-01T00:00:00",
          "1963-06-01T00:00:00",
          "1963-07-01T00:00:00",
          "1963-08-01T00:00:00",
          "1963-09-01T00:00:00",
          "1963-10-01T00:00:00",
          "1963-11-01T00:00:00",
          "1963-12-01T00:00:00",
          "1964-01-01T00:00:00",
          "1964-02-01T00:00:00",
          "1964-03-01T00:00:00",
          "1964-04-01T00:00:00",
          "1964-05-01T00:00:00",
          "1964-06-01T00:00:00",
          "1964-07-01T00:00:00",
          "1964-08-01T00:00:00",
          "1964-09-01T00:00:00",
          "1964-10-01T00:00:00",
          "1964-11-01T00:00:00",
          "1964-12-01T00:00:00",
          "1965-01-01T00:00:00",
          "1965-02-01T00:00:00",
          "1965-03-01T00:00:00",
          "1965-04-01T00:00:00",
          "1965-05-01T00:00:00",
          "1965-06-01T00:00:00",
          "1965-07-01T00:00:00",
          "1965-08-01T00:00:00",
          "1965-09-01T00:00:00",
          "1965-10-01T00:00:00",
          "1965-11-01T00:00:00",
          "1965-12-01T00:00:00",
          "1966-01-01T00:00:00",
          "1966-02-01T00:00:00",
          "1966-03-01T00:00:00",
          "1966-04-01T00:00:00",
          "1966-05-01T00:00:00",
          "1966-06-01T00:00:00",
          "1966-07-01T00:00:00",
          "1966-08-01T00:00:00",
          "1966-09-01T00:00:00",
          "1966-10-01T00:00:00",
          "1966-11-01T00:00:00",
          "1966-12-01T00:00:00",
          "1967-01-01T00:00:00",
          "1967-02-01T00:00:00",
          "1967-03-01T00:00:00",
          "1967-04-01T00:00:00",
          "1967-05-01T00:00:00",
          "1967-06-01T00:00:00",
          "1967-07-01T00:00:00",
          "1967-08-01T00:00:00",
          "1967-09-01T00:00:00",
          "1967-10-01T00:00:00",
          "1967-11-01T00:00:00",
          "1967-12-01T00:00:00",
          "1968-01-01T00:00:00",
          "1968-02-01T00:00:00",
          "1968-03-01T00:00:00",
          "1968-04-01T00:00:00",
          "1968-05-01T00:00:00",
          "1968-06-01T00:00:00",
          "1968-07-01T00:00:00",
          "1968-08-01T00:00:00",
          "1968-09-01T00:00:00",
          "1968-10-01T00:00:00",
          "1968-11-01T00:00:00",
          "1968-12-01T00:00:00",
          "1969-01-01T00:00:00",
          "1969-02-01T00:00:00",
          "1969-03-01T00:00:00",
          "1969-04-01T00:00:00",
          "1969-05-01T00:00:00",
          "1969-06-01T00:00:00",
          "1969-07-01T00:00:00",
          "1969-08-01T00:00:00",
          "1969-09-01T00:00:00",
          "1969-10-01T00:00:00",
          "1969-11-01T00:00:00",
          "1969-12-01T00:00:00",
          "1970-01-01T00:00:00",
          "1970-02-01T00:00:00",
          "1970-03-01T00:00:00",
          "1970-04-01T00:00:00",
          "1970-05-01T00:00:00",
          "1970-06-01T00:00:00",
          "1970-07-01T00:00:00",
          "1970-08-01T00:00:00",
          "1970-09-01T00:00:00",
          "1970-10-01T00:00:00",
          "1970-11-01T00:00:00",
          "1970-12-01T00:00:00"
         ],
         "y": [
          4572.530832861136,
          5194.14539791248,
          11230.121432252721,
          13180.991105400066,
          14589.401352379273,
          11548.433866801632,
          7983.7737231773835,
          5887.0870803853795,
          4304.483331926041,
          8833.515631592878,
          8125.149576277393,
          6323.669040973562,
          6095.353609814275,
          7062.741509552016,
          12231.964678690161,
          14450.902744821364,
          15947.461817741616,
          13305.294278994506,
          8922.948117166483,
          6899.013378483511,
          5417.301006533511,
          9864.47595622803,
          9773.05356335126,
          7697.214073917726,
          7237.5604797490305,
          7998.04632331455,
          13429.00221676513,
          15546.173309572618,
          17332.390262898516,
          15159.055973483626,
          9871.47731738913,
          7797.30493349396,
          6463.4284105156685,
          10934.193040197408,
          11539.128992663105,
          9087.918070505786,
          8274.634898915449,
          9095.49371978602,
          14430.015477612611,
          16857.393425206665,
          18852.723453236933,
          16925.778772380057,
          10720.941240249278,
          8917.425118352632,
          7585.770363887702,
          12107.878588349438,
          13346.971281241495,
          10320.65131556028,
          9491.480672281286,
          10112.520367401317,
          16100.365560807755,
          18126.680830855577,
          19432.834776185406,
          16386.483102628747,
          12949.59995463121,
          10727.394562772795,
          9231.398670049999,
          13585.713941571703,
          13056.470659979746,
          11273.639877086556,
          10911.902040495721,
          11784.01065603953,
          17006.96027705223,
          19285.589758250877,
          20780.17589343682,
          18059.431204413726,
          13736.461248383588,
          11570.747140903048,
          10136.198230512557,
          14527.51833335901,
          14389.894505552751,
          12158.931734992995,
          11737.53830010623,
          12491.86543256776,
          17707.407177787823,
          19894.11642785376,
          21642.452534975644,
          19314.24676085995,
          13979.089842079686,
          12058.903001120416,
          10547.24802650413,
          15077.622650135909,
          15617.676978595508,
          12920.277662399334,
          12319.586959207865,
          12883.130465885251,
          18304.185628512794,
          20470.90161778974,
          22481.398802683445,
          20539.867716882305,
          14326.593575422052,
          12416.051893769016,
          11022.041481944321,
          15595.958347814407,
          16848.830829181603,
          13706.710921697526,
          12843.901718638974,
          13379.207126757798,
          19305.265463063213,
          21371.405737540368,
          22656.16769526484,
          19457.49689103554,
          15976.214151892644,
          13866.51014068767,
          12172.14727305588,
          16630.29542671559,
          15903.97170207108,
          14113.247580982996,
          13935.202497061571,
          14722.252268985747,
          19807.229134252208,
          21899.16436801547,
          23515.779929792654,
          20810.804020386797,
          16545.171590962032,
          14256.244545995738,
          12714.722514233938,
          17267.81041300651,
          17120.76396818598,
          14790.38550597756,
          14392.698179177934,
          15066.385620354964,
          20307.329118608697,
          22642.519141324192,
          24292.97977042942,
          21972.669939903786,
          16741.6962857236,
          14741.031779702915,
          13299.12825361479,
          17676.75127820266,
          18234.678387038908,
          15612.553630644812
         ]
        },
        {
         "fill": "tonexty",
         "fillcolor": "rgba(0, 114, 178, 0.2)",
         "line": {
          "color": "#0072B2",
          "width": 2
         },
         "mode": "lines",
         "name": "Predicted",
         "type": "scatter",
         "x": [
          "1960-01-01T00:00:00",
          "1960-02-01T00:00:00",
          "1960-03-01T00:00:00",
          "1960-04-01T00:00:00",
          "1960-05-01T00:00:00",
          "1960-06-01T00:00:00",
          "1960-07-01T00:00:00",
          "1960-08-01T00:00:00",
          "1960-09-01T00:00:00",
          "1960-10-01T00:00:00",
          "1960-11-01T00:00:00",
          "1960-12-01T00:00:00",
          "1961-01-01T00:00:00",
          "1961-02-01T00:00:00",
          "1961-03-01T00:00:00",
          "1961-04-01T00:00:00",
          "1961-05-01T00:00:00",
          "1961-06-01T00:00:00",
          "1961-07-01T00:00:00",
          "1961-08-01T00:00:00",
          "1961-09-01T00:00:00",
          "1961-10-01T00:00:00",
          "1961-11-01T00:00:00",
          "1961-12-01T00:00:00",
          "1962-01-01T00:00:00",
          "1962-02-01T00:00:00",
          "1962-03-01T00:00:00",
          "1962-04-01T00:00:00",
          "1962-05-01T00:00:00",
          "1962-06-01T00:00:00",
          "1962-07-01T00:00:00",
          "1962-08-01T00:00:00",
          "1962-09-01T00:00:00",
          "1962-10-01T00:00:00",
          "1962-11-01T00:00:00",
          "1962-12-01T00:00:00",
          "1963-01-01T00:00:00",
          "1963-02-01T00:00:00",
          "1963-03-01T00:00:00",
          "1963-04-01T00:00:00",
          "1963-05-01T00:00:00",
          "1963-06-01T00:00:00",
          "1963-07-01T00:00:00",
          "1963-08-01T00:00:00",
          "1963-09-01T00:00:00",
          "1963-10-01T00:00:00",
          "1963-11-01T00:00:00",
          "1963-12-01T00:00:00",
          "1964-01-01T00:00:00",
          "1964-02-01T00:00:00",
          "1964-03-01T00:00:00",
          "1964-04-01T00:00:00",
          "1964-05-01T00:00:00",
          "1964-06-01T00:00:00",
          "1964-07-01T00:00:00",
          "1964-08-01T00:00:00",
          "1964-09-01T00:00:00",
          "1964-10-01T00:00:00",
          "1964-11-01T00:00:00",
          "1964-12-01T00:00:00",
          "1965-01-01T00:00:00",
          "1965-02-01T00:00:00",
          "1965-03-01T00:00:00",
          "1965-04-01T00:00:00",
          "1965-05-01T00:00:00",
          "1965-06-01T00:00:00",
          "1965-07-01T00:00:00",
          "1965-08-01T00:00:00",
          "1965-09-01T00:00:00",
          "1965-10-01T00:00:00",
          "1965-11-01T00:00:00",
          "1965-12-01T00:00:00",
          "1966-01-01T00:00:00",
          "1966-02-01T00:00:00",
          "1966-03-01T00:00:00",
          "1966-04-01T00:00:00",
          "1966-05-01T00:00:00",
          "1966-06-01T00:00:00",
          "1966-07-01T00:00:00",
          "1966-08-01T00:00:00",
          "1966-09-01T00:00:00",
          "1966-10-01T00:00:00",
          "1966-11-01T00:00:00",
          "1966-12-01T00:00:00",
          "1967-01-01T00:00:00",
          "1967-02-01T00:00:00",
          "1967-03-01T00:00:00",
          "1967-04-01T00:00:00",
          "1967-05-01T00:00:00",
          "1967-06-01T00:00:00",
          "1967-07-01T00:00:00",
          "1967-08-01T00:00:00",
          "1967-09-01T00:00:00",
          "1967-10-01T00:00:00",
          "1967-11-01T00:00:00",
          "1967-12-01T00:00:00",
          "1968-01-01T00:00:00",
          "1968-02-01T00:00:00",
          "1968-03-01T00:00:00",
          "1968-04-01T00:00:00",
          "1968-05-01T00:00:00",
          "1968-06-01T00:00:00",
          "1968-07-01T00:00:00",
          "1968-08-01T00:00:00",
          "1968-09-01T00:00:00",
          "1968-10-01T00:00:00",
          "1968-11-01T00:00:00",
          "1968-12-01T00:00:00",
          "1969-01-01T00:00:00",
          "1969-02-01T00:00:00",
          "1969-03-01T00:00:00",
          "1969-04-01T00:00:00",
          "1969-05-01T00:00:00",
          "1969-06-01T00:00:00",
          "1969-07-01T00:00:00",
          "1969-08-01T00:00:00",
          "1969-09-01T00:00:00",
          "1969-10-01T00:00:00",
          "1969-11-01T00:00:00",
          "1969-12-01T00:00:00",
          "1970-01-01T00:00:00",
          "1970-02-01T00:00:00",
          "1970-03-01T00:00:00",
          "1970-04-01T00:00:00",
          "1970-05-01T00:00:00",
          "1970-06-01T00:00:00",
          "1970-07-01T00:00:00",
          "1970-08-01T00:00:00",
          "1970-09-01T00:00:00",
          "1970-10-01T00:00:00",
          "1970-11-01T00:00:00",
          "1970-12-01T00:00:00"
         ],
         "y": [
          6140.320920904835,
          6753.587337830571,
          12761.871631495076,
          14826.342961309856,
          16162.457172651906,
          13063.268548531238,
          9700.353042068537,
          7446.830473345963,
          5924.895787089328,
          10381.589629459291,
          9679.64153858072,
          7975.609404036766,
          7766.129977429038,
          8590.306809438147,
          13834.196910392819,
          16003.97872723667,
          17556.35631647639,
          14858.952001458449,
          10574.552246157773,
          8449.401144279253,
          7002.085116839172,
          11483.170283645573,
          11421.044268361324,
          9287.168450330002,
          8859.867486510338,
          9607.355313161133,
          14910.702581273254,
          17189.21666110523,
          18956.224495916573,
          16645.783214685336,
          11436.635162019522,
          9452.859111288648,
          8085.521454921696,
          12595.321299798263,
          13165.53376456591,
          10588.775039039967,
          9946.183732764359,
          10623.328891546253,
          15991.557429065824,
          18382.03719731508,
          20361.667971764444,
          18423.155243550922,
          12286.994664935228,
          10457.63729312005,
          9175.463337288615,
          13718.01211004993,
          14912.492730055365,
          11880.248300351772,
          11025.274586199965,
          11638.539018974525,
          17646.821456497342,
          19711.290802160707,
          21045.961690302087,
          17945.281632206952,
          14580.922802543384,
          12323.850733146242,
          10798.366546099804,
          15251.625387704733,
          14546.127796036624,
          12835.609770809207,
          12619.428257162821,
          13436.903002133362,
          18661.352097055023,
          20809.609944808348,
          22341.157886540666,
          19622.229602432686,
          15297.712940556756,
          13131.107701883218,
          11642.337537648582,
          16077.57761364215,
          15968.078337851402,
          13788.357429007783,
          13313.683204705772,
          14013.797770620538,
          19274.356287099683,
          21505.49710619519,
          23226.66126529521,
          20868.848185828563,
          15613.856457451982,
          13582.708608263472,
          12167.99915321812,
          16631.95532195449,
          17154.795988043865,
          14532.193586764837,
          13842.230482211166,
          14472.003842715061,
          19797.44495085106,
          22140.55292228306,
          24074.34002239309,
          22088.45549736242,
          15906.451247545534,
          14029.722082155817,
          12700.176332750087,
          17196.881435244013,
          18343.990262639814,
          15265.902162668972,
          14363.556655907436,
          14929.449809188987,
          20893.417178798954,
          22910.515244969305,
          24200.784362515074,
          21054.222474804414,
          17645.46187454486,
          15344.566042231858,
          13775.258092269243,
          18186.10684072966,
          17436.78548614551,
          15686.908258105133,
          15430.055568218304,
          16206.85913694839,
          21407.960483973475,
          23530.369039412624,
          25036.901536970025,
          22292.123960547593,
          17961.87911338437,
          15789.354749913935,
          14294.665460882608,
          18729.905536054895,
          18620.406259414875,
          16440.685349750052,
          15966.01112457527,
          16666.125689617227,
          21926.684205307793,
          24157.82502353035,
          25878.98918165933,
          23521.176101189787,
          18266.184371841962,
          16235.036521872968,
          14820.32706604739,
          19284.283234028535,
          19807.123899337774,
          17184.52149710147
         ]
        },
        {
         "fill": "tonexty",
         "fillcolor": "rgba(0, 114, 178, 0.2)",
         "hoverinfo": "skip",
         "line": {
          "width": 0
         },
         "mode": "lines",
         "type": "scatter",
         "x": [
          "1960-01-01T00:00:00",
          "1960-02-01T00:00:00",
          "1960-03-01T00:00:00",
          "1960-04-01T00:00:00",
          "1960-05-01T00:00:00",
          "1960-06-01T00:00:00",
          "1960-07-01T00:00:00",
          "1960-08-01T00:00:00",
          "1960-09-01T00:00:00",
          "1960-10-01T00:00:00",
          "1960-11-01T00:00:00",
          "1960-12-01T00:00:00",
          "1961-01-01T00:00:00",
          "1961-02-01T00:00:00",
          "1961-03-01T00:00:00",
          "1961-04-01T00:00:00",
          "1961-05-01T00:00:00",
          "1961-06-01T00:00:00",
          "1961-07-01T00:00:00",
          "1961-08-01T00:00:00",
          "1961-09-01T00:00:00",
          "1961-10-01T00:00:00",
          "1961-11-01T00:00:00",
          "1961-12-01T00:00:00",
          "1962-01-01T00:00:00",
          "1962-02-01T00:00:00",
          "1962-03-01T00:00:00",
          "1962-04-01T00:00:00",
          "1962-05-01T00:00:00",
          "1962-06-01T00:00:00",
          "1962-07-01T00:00:00",
          "1962-08-01T00:00:00",
          "1962-09-01T00:00:00",
          "1962-10-01T00:00:00",
          "1962-11-01T00:00:00",
          "1962-12-01T00:00:00",
          "1963-01-01T00:00:00",
          "1963-02-01T00:00:00",
          "1963-03-01T00:00:00",
          "1963-04-01T00:00:00",
          "1963-05-01T00:00:00",
          "1963-06-01T00:00:00",
          "1963-07-01T00:00:00",
          "1963-08-01T00:00:00",
          "1963-09-01T00:00:00",
          "1963-10-01T00:00:00",
          "1963-11-01T00:00:00",
          "1963-12-01T00:00:00",
          "1964-01-01T00:00:00",
          "1964-02-01T00:00:00",
          "1964-03-01T00:00:00",
          "1964-04-01T00:00:00",
          "1964-05-01T00:00:00",
          "1964-06-01T00:00:00",
          "1964-07-01T00:00:00",
          "1964-08-01T00:00:00",
          "1964-09-01T00:00:00",
          "1964-10-01T00:00:00",
          "1964-11-01T00:00:00",
          "1964-12-01T00:00:00",
          "1965-01-01T00:00:00",
          "1965-02-01T00:00:00",
          "1965-03-01T00:00:00",
          "1965-04-01T00:00:00",
          "1965-05-01T00:00:00",
          "1965-06-01T00:00:00",
          "1965-07-01T00:00:00",
          "1965-08-01T00:00:00",
          "1965-09-01T00:00:00",
          "1965-10-01T00:00:00",
          "1965-11-01T00:00:00",
          "1965-12-01T00:00:00",
          "1966-01-01T00:00:00",
          "1966-02-01T00:00:00",
          "1966-03-01T00:00:00",
          "1966-04-01T00:00:00",
          "1966-05-01T00:00:00",
          "1966-06-01T00:00:00",
          "1966-07-01T00:00:00",
          "1966-08-01T00:00:00",
          "1966-09-01T00:00:00",
          "1966-10-01T00:00:00",
          "1966-11-01T00:00:00",
          "1966-12-01T00:00:00",
          "1967-01-01T00:00:00",
          "1967-02-01T00:00:00",
          "1967-03-01T00:00:00",
          "1967-04-01T00:00:00",
          "1967-05-01T00:00:00",
          "1967-06-01T00:00:00",
          "1967-07-01T00:00:00",
          "1967-08-01T00:00:00",
          "1967-09-01T00:00:00",
          "1967-10-01T00:00:00",
          "1967-11-01T00:00:00",
          "1967-12-01T00:00:00",
          "1968-01-01T00:00:00",
          "1968-02-01T00:00:00",
          "1968-03-01T00:00:00",
          "1968-04-01T00:00:00",
          "1968-05-01T00:00:00",
          "1968-06-01T00:00:00",
          "1968-07-01T00:00:00",
          "1968-08-01T00:00:00",
          "1968-09-01T00:00:00",
          "1968-10-01T00:00:00",
          "1968-11-01T00:00:00",
          "1968-12-01T00:00:00",
          "1969-01-01T00:00:00",
          "1969-02-01T00:00:00",
          "1969-03-01T00:00:00",
          "1969-04-01T00:00:00",
          "1969-05-01T00:00:00",
          "1969-06-01T00:00:00",
          "1969-07-01T00:00:00",
          "1969-08-01T00:00:00",
          "1969-09-01T00:00:00",
          "1969-10-01T00:00:00",
          "1969-11-01T00:00:00",
          "1969-12-01T00:00:00",
          "1970-01-01T00:00:00",
          "1970-02-01T00:00:00",
          "1970-03-01T00:00:00",
          "1970-04-01T00:00:00",
          "1970-05-01T00:00:00",
          "1970-06-01T00:00:00",
          "1970-07-01T00:00:00",
          "1970-08-01T00:00:00",
          "1970-09-01T00:00:00",
          "1970-10-01T00:00:00",
          "1970-11-01T00:00:00",
          "1970-12-01T00:00:00"
         ],
         "y": [
          7812.723604253869,
          8275.160708209889,
          14324.049251044082,
          16373.81225596825,
          17733.72611604968,
          14599.834204029934,
          11282.709182227842,
          8961.753443959831,
          7375.740959839707,
          11958.933761176939,
          11352.272711307745,
          9640.280478496621,
          9336.323620649144,
          10169.52174051292,
          15395.851995689633,
          17639.071686607174,
          19112.39274239418,
          16456.841553603677,
          12129.809036868026,
          10034.902789796231,
          8518.87293163983,
          13054.663427630987,
          12897.954593142767,
          10826.156641956046,
          10372.379036856104,
          11058.653046462294,
          16599.434882022746,
          18692.579232951026,
          20404.98195734975,
          18269.509805546095,
          13023.970791782554,
          11146.215958790108,
          9763.74840270782,
          14266.845249585376,
          14695.506834821885,
          12254.637069474431,
          11475.756999729767,
          12141.388415536134,
          17520.47331654948,
          19922.333375971506,
          21950.01107347345,
          20022.252403198872,
          13828.877515116386,
          12176.239473855992,
          10654.892631194523,
          15337.316727800006,
          16593.380997383854,
          13495.052166103456,
          12576.674468273744,
          13164.55111604253,
          19202.984297174495,
          21336.17702798654,
          22649.42689639751,
          19502.58871080646,
          16246.034478217389,
          13884.772064085415,
          12416.853278625314,
          16835.406603048028,
          16123.28467777315,
          14463.281945241217,
          14145.230969894372,
          14945.492022542627,
          20347.286772715666,
          22419.48695607009,
          23863.00780719205,
          21134.653953416873,
          16814.566137087957,
          14787.395808329371,
          13259.933718563338,
          17624.10965243216,
          17496.121000635092,
          15288.342910819401,
          14946.449285655723,
          15550.166558139224,
          20869.4111880664,
          23120.671963515422,
          24724.613428606135,
          22475.779382950353,
          17209.421426440233,
          15105.525053195732,
          13721.447285274937,
          18148.689278427315,
          18726.61029229595,
          16214.504141538924,
          15371.04754124217,
          16161.717674821186,
          21446.47998646776,
          23707.365867564742,
          25568.057601372675,
          23795.19333618982,
          17451.426061623773,
          15584.022712855372,
          14187.910148491228,
          18751.75685347933,
          19972.75201801404,
          16812.307160204735,
          15854.222884585484,
          16469.35192032741,
          22608.433513308923,
          24478.848924606194,
          25855.710415845984,
          22540.3067008658,
          19195.787610217707,
          16906.93332119127,
          15381.5434778959,
          19720.261951999335,
          18849.10586675002,
          17272.642008638777,
          16984.98915133672,
          17771.023226057092,
          22997.583295552868,
          25083.764402332316,
          26649.57396276308,
          23787.804142785884,
          19656.960479108846,
          17325.46222550565,
          15868.378583141815,
          20303.523103391286,
          20164.81759184625,
          17965.369060955905,
          17477.523839301666,
          18215.164112699687,
          23527.10473048641,
          25739.72469457339,
          27443.541655733854,
          25184.959678144405,
          19902.29831805087,
          17773.140293907025,
          16435.35301336261,
          20831.081248287363,
          21353.414726865918,
          18696.12948591847
         ]
        }
       ],
       "layout": {
        "height": 600,
        "showlegend": false,
        "template": {
         "data": {
          "bar": [
           {
            "error_x": {
             "color": "#2a3f5f"
            },
            "error_y": {
             "color": "#2a3f5f"
            },
            "marker": {
             "line": {
              "color": "#E5ECF6",
              "width": 0.5
             }
            },
            "type": "bar"
           }
          ],
          "barpolar": [
           {
            "marker": {
             "line": {
              "color": "#E5ECF6",
              "width": 0.5
             }
            },
            "type": "barpolar"
           }
          ],
          "carpet": [
           {
            "aaxis": {
             "endlinecolor": "#2a3f5f",
             "gridcolor": "white",
             "linecolor": "white",
             "minorgridcolor": "white",
             "startlinecolor": "#2a3f5f"
            },
            "baxis": {
             "endlinecolor": "#2a3f5f",
             "gridcolor": "white",
             "linecolor": "white",
             "minorgridcolor": "white",
             "startlinecolor": "#2a3f5f"
            },
            "type": "carpet"
           }
          ],
          "choropleth": [
           {
            "colorbar": {
             "outlinewidth": 0,
             "ticks": ""
            },
            "type": "choropleth"
           }
          ],
          "contour": [
           {
            "colorbar": {
             "outlinewidth": 0,
             "ticks": ""
            },
            "colorscale": [
             [
              0,
              "#0d0887"
             ],
             [
              0.1111111111111111,
              "#46039f"
             ],
             [
              0.2222222222222222,
              "#7201a8"
             ],
             [
              0.3333333333333333,
              "#9c179e"
             ],
             [
              0.4444444444444444,
              "#bd3786"
             ],
             [
              0.5555555555555556,
              "#d8576b"
             ],
             [
              0.6666666666666666,
              "#ed7953"
             ],
             [
              0.7777777777777778,
              "#fb9f3a"
             ],
             [
              0.8888888888888888,
              "#fdca26"
             ],
             [
              1,
              "#f0f921"
             ]
            ],
            "type": "contour"
           }
          ],
          "contourcarpet": [
           {
            "colorbar": {
             "outlinewidth": 0,
             "ticks": ""
            },
            "type": "contourcarpet"
           }
          ],
          "heatmap": [
           {
            "colorbar": {
             "outlinewidth": 0,
             "ticks": ""
            },
            "colorscale": [
             [
              0,
              "#0d0887"
             ],
             [
              0.1111111111111111,
              "#46039f"
             ],
             [
              0.2222222222222222,
              "#7201a8"
             ],
             [
              0.3333333333333333,
              "#9c179e"
             ],
             [
              0.4444444444444444,
              "#bd3786"
             ],
             [
              0.5555555555555556,
              "#d8576b"
             ],
             [
              0.6666666666666666,
              "#ed7953"
             ],
             [
              0.7777777777777778,
              "#fb9f3a"
             ],
             [
              0.8888888888888888,
              "#fdca26"
             ],
             [
              1,
              "#f0f921"
             ]
            ],
            "type": "heatmap"
           }
          ],
          "heatmapgl": [
           {
            "colorbar": {
             "outlinewidth": 0,
             "ticks": ""
            },
            "colorscale": [
             [
              0,
              "#0d0887"
             ],
             [
              0.1111111111111111,
              "#46039f"
             ],
             [
              0.2222222222222222,
              "#7201a8"
             ],
             [
              0.3333333333333333,
              "#9c179e"
             ],
             [
              0.4444444444444444,
              "#bd3786"
             ],
             [
              0.5555555555555556,
              "#d8576b"
             ],
             [
              0.6666666666666666,
              "#ed7953"
             ],
             [
              0.7777777777777778,
              "#fb9f3a"
             ],
             [
              0.8888888888888888,
              "#fdca26"
             ],
             [
              1,
              "#f0f921"
             ]
            ],
            "type": "heatmapgl"
           }
          ],
          "histogram": [
           {
            "marker": {
             "colorbar": {
              "outlinewidth": 0,
              "ticks": ""
             }
            },
            "type": "histogram"
           }
          ],
          "histogram2d": [
           {
            "colorbar": {
             "outlinewidth": 0,
             "ticks": ""
            },
            "colorscale": [
             [
              0,
              "#0d0887"
             ],
             [
              0.1111111111111111,
              "#46039f"
             ],
             [
              0.2222222222222222,
              "#7201a8"
             ],
             [
              0.3333333333333333,
              "#9c179e"
             ],
             [
              0.4444444444444444,
              "#bd3786"
             ],
             [
              0.5555555555555556,
              "#d8576b"
             ],
             [
              0.6666666666666666,
              "#ed7953"
             ],
             [
              0.7777777777777778,
              "#fb9f3a"
             ],
             [
              0.8888888888888888,
              "#fdca26"
             ],
             [
              1,
              "#f0f921"
             ]
            ],
            "type": "histogram2d"
           }
          ],
          "histogram2dcontour": [
           {
            "colorbar": {
             "outlinewidth": 0,
             "ticks": ""
            },
            "colorscale": [
             [
              0,
              "#0d0887"
             ],
             [
              0.1111111111111111,
              "#46039f"
             ],
             [
              0.2222222222222222,
              "#7201a8"
             ],
             [
              0.3333333333333333,
              "#9c179e"
             ],
             [
              0.4444444444444444,
              "#bd3786"
             ],
             [
              0.5555555555555556,
              "#d8576b"
             ],
             [
              0.6666666666666666,
              "#ed7953"
             ],
             [
              0.7777777777777778,
              "#fb9f3a"
             ],
             [
              0.8888888888888888,
              "#fdca26"
             ],
             [
              1,
              "#f0f921"
             ]
            ],
            "type": "histogram2dcontour"
           }
          ],
          "mesh3d": [
           {
            "colorbar": {
             "outlinewidth": 0,
             "ticks": ""
            },
            "type": "mesh3d"
           }
          ],
          "parcoords": [
           {
            "line": {
             "colorbar": {
              "outlinewidth": 0,
              "ticks": ""
             }
            },
            "type": "parcoords"
           }
          ],
          "pie": [
           {
            "automargin": true,
            "type": "pie"
           }
          ],
          "scatter": [
           {
            "marker": {
             "colorbar": {
              "outlinewidth": 0,
              "ticks": ""
             }
            },
            "type": "scatter"
           }
          ],
          "scatter3d": [
           {
            "line": {
             "colorbar": {
              "outlinewidth": 0,
              "ticks": ""
             }
            },
            "marker": {
             "colorbar": {
              "outlinewidth": 0,
              "ticks": ""
             }
            },
            "type": "scatter3d"
           }
          ],
          "scattercarpet": [
           {
            "marker": {
             "colorbar": {
              "outlinewidth": 0,
              "ticks": ""
             }
            },
            "type": "scattercarpet"
           }
          ],
          "scattergeo": [
           {
            "marker": {
             "colorbar": {
              "outlinewidth": 0,
              "ticks": ""
             }
            },
            "type": "scattergeo"
           }
          ],
          "scattergl": [
           {
            "marker": {
             "colorbar": {
              "outlinewidth": 0,
              "ticks": ""
             }
            },
            "type": "scattergl"
           }
          ],
          "scattermapbox": [
           {
            "marker": {
             "colorbar": {
              "outlinewidth": 0,
              "ticks": ""
             }
            },
            "type": "scattermapbox"
           }
          ],
          "scatterpolar": [
           {
            "marker": {
             "colorbar": {
              "outlinewidth": 0,
              "ticks": ""
             }
            },
            "type": "scatterpolar"
           }
          ],
          "scatterpolargl": [
           {
            "marker": {
             "colorbar": {
              "outlinewidth": 0,
              "ticks": ""
             }
            },
            "type": "scatterpolargl"
           }
          ],
          "scatterternary": [
           {
            "marker": {
             "colorbar": {
              "outlinewidth": 0,
              "ticks": ""
             }
            },
            "type": "scatterternary"
           }
          ],
          "surface": [
           {
            "colorbar": {
             "outlinewidth": 0,
             "ticks": ""
            },
            "colorscale": [
             [
              0,
              "#0d0887"
             ],
             [
              0.1111111111111111,
              "#46039f"
             ],
             [
              0.2222222222222222,
              "#7201a8"
             ],
             [
              0.3333333333333333,
              "#9c179e"
             ],
             [
              0.4444444444444444,
              "#bd3786"
             ],
             [
              0.5555555555555556,
              "#d8576b"
             ],
             [
              0.6666666666666666,
              "#ed7953"
             ],
             [
              0.7777777777777778,
              "#fb9f3a"
             ],
             [
              0.8888888888888888,
              "#fdca26"
             ],
             [
              1,
              "#f0f921"
             ]
            ],
            "type": "surface"
           }
          ],
          "table": [
           {
            "cells": {
             "fill": {
              "color": "#EBF0F8"
             },
             "line": {
              "color": "white"
             }
            },
            "header": {
             "fill": {
              "color": "#C8D4E3"
             },
             "line": {
              "color": "white"
             }
            },
            "type": "table"
           }
          ]
         },
         "layout": {
          "annotationdefaults": {
           "arrowcolor": "#2a3f5f",
           "arrowhead": 0,
           "arrowwidth": 1
          },
          "coloraxis": {
           "colorbar": {
            "outlinewidth": 0,
            "ticks": ""
           }
          },
          "colorscale": {
           "diverging": [
            [
             0,
             "#8e0152"
            ],
            [
             0.1,
             "#c51b7d"
            ],
            [
             0.2,
             "#de77ae"
            ],
            [
             0.3,
             "#f1b6da"
            ],
            [
             0.4,
             "#fde0ef"
            ],
            [
             0.5,
             "#f7f7f7"
            ],
            [
             0.6,
             "#e6f5d0"
            ],
            [
             0.7,
             "#b8e186"
            ],
            [
             0.8,
             "#7fbc41"
            ],
            [
             0.9,
             "#4d9221"
            ],
            [
             1,
             "#276419"
            ]
           ],
           "sequential": [
            [
             0,
             "#0d0887"
            ],
            [
             0.1111111111111111,
             "#46039f"
            ],
            [
             0.2222222222222222,
             "#7201a8"
            ],
            [
             0.3333333333333333,
             "#9c179e"
            ],
            [
             0.4444444444444444,
             "#bd3786"
            ],
            [
             0.5555555555555556,
             "#d8576b"
            ],
            [
             0.6666666666666666,
             "#ed7953"
            ],
            [
             0.7777777777777778,
             "#fb9f3a"
            ],
            [
             0.8888888888888888,
             "#fdca26"
            ],
            [
             1,
             "#f0f921"
            ]
           ],
           "sequentialminus": [
            [
             0,
             "#0d0887"
            ],
            [
             0.1111111111111111,
             "#46039f"
            ],
            [
             0.2222222222222222,
             "#7201a8"
            ],
            [
             0.3333333333333333,
             "#9c179e"
            ],
            [
             0.4444444444444444,
             "#bd3786"
            ],
            [
             0.5555555555555556,
             "#d8576b"
            ],
            [
             0.6666666666666666,
             "#ed7953"
            ],
            [
             0.7777777777777778,
             "#fb9f3a"
            ],
            [
             0.8888888888888888,
             "#fdca26"
            ],
            [
             1,
             "#f0f921"
            ]
           ]
          },
          "colorway": [
           "#636efa",
           "#EF553B",
           "#00cc96",
           "#ab63fa",
           "#FFA15A",
           "#19d3f3",
           "#FF6692",
           "#B6E880",
           "#FF97FF",
           "#FECB52"
          ],
          "font": {
           "color": "#2a3f5f"
          },
          "geo": {
           "bgcolor": "white",
           "lakecolor": "white",
           "landcolor": "#E5ECF6",
           "showlakes": true,
           "showland": true,
           "subunitcolor": "white"
          },
          "hoverlabel": {
           "align": "left"
          },
          "hovermode": "closest",
          "mapbox": {
           "style": "light"
          },
          "paper_bgcolor": "white",
          "plot_bgcolor": "#E5ECF6",
          "polar": {
           "angularaxis": {
            "gridcolor": "white",
            "linecolor": "white",
            "ticks": ""
           },
           "bgcolor": "#E5ECF6",
           "radialaxis": {
            "gridcolor": "white",
            "linecolor": "white",
            "ticks": ""
           }
          },
          "scene": {
           "xaxis": {
            "backgroundcolor": "#E5ECF6",
            "gridcolor": "white",
            "gridwidth": 2,
            "linecolor": "white",
            "showbackground": true,
            "ticks": "",
            "zerolinecolor": "white"
           },
           "yaxis": {
            "backgroundcolor": "#E5ECF6",
            "gridcolor": "white",
            "gridwidth": 2,
            "linecolor": "white",
            "showbackground": true,
            "ticks": "",
            "zerolinecolor": "white"
           },
           "zaxis": {
            "backgroundcolor": "#E5ECF6",
            "gridcolor": "white",
            "gridwidth": 2,
            "linecolor": "white",
            "showbackground": true,
            "ticks": "",
            "zerolinecolor": "white"
           }
          },
          "shapedefaults": {
           "line": {
            "color": "#2a3f5f"
           }
          },
          "ternary": {
           "aaxis": {
            "gridcolor": "white",
            "linecolor": "white",
            "ticks": ""
           },
           "baxis": {
            "gridcolor": "white",
            "linecolor": "white",
            "ticks": ""
           },
           "bgcolor": "#E5ECF6",
           "caxis": {
            "gridcolor": "white",
            "linecolor": "white",
            "ticks": ""
           }
          },
          "title": {
           "x": 0.05
          },
          "xaxis": {
           "automargin": true,
           "gridcolor": "white",
           "linecolor": "white",
           "ticks": "",
           "title": {
            "standoff": 15
           },
           "zerolinecolor": "white",
           "zerolinewidth": 2
          },
          "yaxis": {
           "automargin": true,
           "gridcolor": "white",
           "linecolor": "white",
           "ticks": "",
           "title": {
            "standoff": 15
           },
           "zerolinecolor": "white",
           "zerolinewidth": 2
          }
         }
        },
        "width": 900,
        "xaxis": {
         "rangeselector": {
          "buttons": [
           {
            "count": 7,
            "label": "1w",
            "step": "day",
            "stepmode": "backward"
           },
           {
            "count": 1,
            "label": "1m",
            "step": "month",
            "stepmode": "backward"
           },
           {
            "count": 6,
            "label": "6m",
            "step": "month",
            "stepmode": "backward"
           },
           {
            "count": 1,
            "label": "1y",
            "step": "year",
            "stepmode": "backward"
           },
           {
            "step": "all"
           }
          ]
         },
         "rangeslider": {
          "visible": true
         },
         "title": {
          "text": "ds"
         },
         "type": "date"
        },
        "yaxis": {
         "title": {
          "text": "y"
         }
        }
       }
      },
      "text/html": [
       "<div>\n",
       "        \n",
       "        \n",
       "            <div id=\"d4efbc1a-bbf4-4835-aa08-47df814dddb2\" class=\"plotly-graph-div\" style=\"height:600px; width:900px;\"></div>\n",
       "            <script type=\"text/javascript\">\n",
       "                require([\"plotly\"], function(Plotly) {\n",
       "                    window.PLOTLYENV=window.PLOTLYENV || {};\n",
       "                    \n",
       "                if (document.getElementById(\"d4efbc1a-bbf4-4835-aa08-47df814dddb2\")) {\n",
       "                    Plotly.newPlot(\n",
       "                        'd4efbc1a-bbf4-4835-aa08-47df814dddb2',\n",
       "                        [{\"marker\": {\"color\": \"black\", \"size\": 4}, \"mode\": \"markers\", \"name\": \"Actual\", \"type\": \"scatter\", \"x\": [\"1960-01-01T00:00:00\", \"1960-02-01T00:00:00\", \"1960-03-01T00:00:00\", \"1960-04-01T00:00:00\", \"1960-05-01T00:00:00\", \"1960-06-01T00:00:00\", \"1960-07-01T00:00:00\", \"1960-08-01T00:00:00\", \"1960-09-01T00:00:00\", \"1960-10-01T00:00:00\", \"1960-11-01T00:00:00\", \"1960-12-01T00:00:00\", \"1961-01-01T00:00:00\", \"1961-02-01T00:00:00\", \"1961-03-01T00:00:00\", \"1961-04-01T00:00:00\", \"1961-05-01T00:00:00\", \"1961-06-01T00:00:00\", \"1961-07-01T00:00:00\", \"1961-08-01T00:00:00\", \"1961-09-01T00:00:00\", \"1961-10-01T00:00:00\", \"1961-11-01T00:00:00\", \"1961-12-01T00:00:00\", \"1962-01-01T00:00:00\", \"1962-02-01T00:00:00\", \"1962-03-01T00:00:00\", \"1962-04-01T00:00:00\", \"1962-05-01T00:00:00\", \"1962-06-01T00:00:00\", \"1962-07-01T00:00:00\", \"1962-08-01T00:00:00\", \"1962-09-01T00:00:00\", \"1962-10-01T00:00:00\", \"1962-11-01T00:00:00\", \"1962-12-01T00:00:00\", \"1963-01-01T00:00:00\", \"1963-02-01T00:00:00\", \"1963-03-01T00:00:00\", \"1963-04-01T00:00:00\", \"1963-05-01T00:00:00\", \"1963-06-01T00:00:00\", \"1963-07-01T00:00:00\", \"1963-08-01T00:00:00\", \"1963-09-01T00:00:00\", \"1963-10-01T00:00:00\", \"1963-11-01T00:00:00\", \"1963-12-01T00:00:00\", \"1964-01-01T00:00:00\", \"1964-02-01T00:00:00\", \"1964-03-01T00:00:00\", \"1964-04-01T00:00:00\", \"1964-05-01T00:00:00\", \"1964-06-01T00:00:00\", \"1964-07-01T00:00:00\", \"1964-08-01T00:00:00\", \"1964-09-01T00:00:00\", \"1964-10-01T00:00:00\", \"1964-11-01T00:00:00\", \"1964-12-01T00:00:00\", \"1965-01-01T00:00:00\", \"1965-02-01T00:00:00\", \"1965-03-01T00:00:00\", \"1965-04-01T00:00:00\", \"1965-05-01T00:00:00\", \"1965-06-01T00:00:00\", \"1965-07-01T00:00:00\", \"1965-08-01T00:00:00\", \"1965-09-01T00:00:00\", \"1965-10-01T00:00:00\", \"1965-11-01T00:00:00\", \"1965-12-01T00:00:00\", \"1966-01-01T00:00:00\", \"1966-02-01T00:00:00\", \"1966-03-01T00:00:00\", \"1966-04-01T00:00:00\", \"1966-05-01T00:00:00\", \"1966-06-01T00:00:00\", \"1966-07-01T00:00:00\", \"1966-08-01T00:00:00\", \"1966-09-01T00:00:00\", \"1966-10-01T00:00:00\", \"1966-11-01T00:00:00\", \"1966-12-01T00:00:00\", \"1967-01-01T00:00:00\", \"1967-02-01T00:00:00\", \"1967-03-01T00:00:00\", \"1967-04-01T00:00:00\", \"1967-05-01T00:00:00\", \"1967-06-01T00:00:00\", \"1967-07-01T00:00:00\", \"1967-08-01T00:00:00\", \"1967-09-01T00:00:00\", \"1967-10-01T00:00:00\", \"1967-11-01T00:00:00\", \"1967-12-01T00:00:00\", \"1968-01-01T00:00:00\", \"1968-02-01T00:00:00\", \"1968-03-01T00:00:00\", \"1968-04-01T00:00:00\", \"1968-05-01T00:00:00\", \"1968-06-01T00:00:00\", \"1968-07-01T00:00:00\", \"1968-08-01T00:00:00\", \"1968-09-01T00:00:00\", \"1968-10-01T00:00:00\", \"1968-11-01T00:00:00\", \"1968-12-01T00:00:00\"], \"y\": [6550, 8728, 12026, 14395, 14587, 13791, 9498, 8251, 7049, 9545, 9364, 8456, 7237, 9374, 11837, 13784, 15926, 13821, 11143, 7975, 7610, 10015, 12759, 8816, 10677, 10947, 15200, 17010, 20900, 16205, 12143, 8997, 5568, 11474, 12256, 10583, 10862, 10965, 14405, 20379, 20128, 17816, 12268, 8642, 7962, 13932, 15936, 12628, 12267, 12470, 18944, 21259, 22015, 18581, 15175, 10306, 10792, 14752, 13754, 11738, 12181, 12965, 19990, 23125, 23541, 21247, 15189, 14767, 10895, 17130, 17697, 16611, 12674, 12760, 20249, 22135, 20677, 19933, 15388, 15113, 13401, 16135, 17562, 14720, 12225, 11608, 20985, 19692, 24081, 22114, 14220, 13434, 13598, 17187, 16119, 13713, 13210, 14251, 20139, 21725, 26099, 21084, 18024, 16722, 14385, 21342, 17180, 14577]}, {\"hoverinfo\": \"skip\", \"line\": {\"width\": 0}, \"mode\": \"lines\", \"type\": \"scatter\", \"x\": [\"1960-01-01T00:00:00\", \"1960-02-01T00:00:00\", \"1960-03-01T00:00:00\", \"1960-04-01T00:00:00\", \"1960-05-01T00:00:00\", \"1960-06-01T00:00:00\", \"1960-07-01T00:00:00\", \"1960-08-01T00:00:00\", \"1960-09-01T00:00:00\", \"1960-10-01T00:00:00\", \"1960-11-01T00:00:00\", \"1960-12-01T00:00:00\", \"1961-01-01T00:00:00\", \"1961-02-01T00:00:00\", \"1961-03-01T00:00:00\", \"1961-04-01T00:00:00\", \"1961-05-01T00:00:00\", \"1961-06-01T00:00:00\", \"1961-07-01T00:00:00\", \"1961-08-01T00:00:00\", \"1961-09-01T00:00:00\", \"1961-10-01T00:00:00\", \"1961-11-01T00:00:00\", \"1961-12-01T00:00:00\", \"1962-01-01T00:00:00\", \"1962-02-01T00:00:00\", \"1962-03-01T00:00:00\", \"1962-04-01T00:00:00\", \"1962-05-01T00:00:00\", \"1962-06-01T00:00:00\", \"1962-07-01T00:00:00\", \"1962-08-01T00:00:00\", \"1962-09-01T00:00:00\", \"1962-10-01T00:00:00\", \"1962-11-01T00:00:00\", \"1962-12-01T00:00:00\", \"1963-01-01T00:00:00\", \"1963-02-01T00:00:00\", \"1963-03-01T00:00:00\", \"1963-04-01T00:00:00\", \"1963-05-01T00:00:00\", \"1963-06-01T00:00:00\", \"1963-07-01T00:00:00\", \"1963-08-01T00:00:00\", \"1963-09-01T00:00:00\", \"1963-10-01T00:00:00\", \"1963-11-01T00:00:00\", \"1963-12-01T00:00:00\", \"1964-01-01T00:00:00\", \"1964-02-01T00:00:00\", \"1964-03-01T00:00:00\", \"1964-04-01T00:00:00\", \"1964-05-01T00:00:00\", \"1964-06-01T00:00:00\", \"1964-07-01T00:00:00\", \"1964-08-01T00:00:00\", \"1964-09-01T00:00:00\", \"1964-10-01T00:00:00\", \"1964-11-01T00:00:00\", \"1964-12-01T00:00:00\", \"1965-01-01T00:00:00\", \"1965-02-01T00:00:00\", \"1965-03-01T00:00:00\", \"1965-04-01T00:00:00\", \"1965-05-01T00:00:00\", \"1965-06-01T00:00:00\", \"1965-07-01T00:00:00\", \"1965-08-01T00:00:00\", \"1965-09-01T00:00:00\", \"1965-10-01T00:00:00\", \"1965-11-01T00:00:00\", \"1965-12-01T00:00:00\", \"1966-01-01T00:00:00\", \"1966-02-01T00:00:00\", \"1966-03-01T00:00:00\", \"1966-04-01T00:00:00\", \"1966-05-01T00:00:00\", \"1966-06-01T00:00:00\", \"1966-07-01T00:00:00\", \"1966-08-01T00:00:00\", \"1966-09-01T00:00:00\", \"1966-10-01T00:00:00\", \"1966-11-01T00:00:00\", \"1966-12-01T00:00:00\", \"1967-01-01T00:00:00\", \"1967-02-01T00:00:00\", \"1967-03-01T00:00:00\", \"1967-04-01T00:00:00\", \"1967-05-01T00:00:00\", \"1967-06-01T00:00:00\", \"1967-07-01T00:00:00\", \"1967-08-01T00:00:00\", \"1967-09-01T00:00:00\", \"1967-10-01T00:00:00\", \"1967-11-01T00:00:00\", \"1967-12-01T00:00:00\", \"1968-01-01T00:00:00\", \"1968-02-01T00:00:00\", \"1968-03-01T00:00:00\", \"1968-04-01T00:00:00\", \"1968-05-01T00:00:00\", \"1968-06-01T00:00:00\", \"1968-07-01T00:00:00\", \"1968-08-01T00:00:00\", \"1968-09-01T00:00:00\", \"1968-10-01T00:00:00\", \"1968-11-01T00:00:00\", \"1968-12-01T00:00:00\", \"1969-01-01T00:00:00\", \"1969-02-01T00:00:00\", \"1969-03-01T00:00:00\", \"1969-04-01T00:00:00\", \"1969-05-01T00:00:00\", \"1969-06-01T00:00:00\", \"1969-07-01T00:00:00\", \"1969-08-01T00:00:00\", \"1969-09-01T00:00:00\", \"1969-10-01T00:00:00\", \"1969-11-01T00:00:00\", \"1969-12-01T00:00:00\", \"1970-01-01T00:00:00\", \"1970-02-01T00:00:00\", \"1970-03-01T00:00:00\", \"1970-04-01T00:00:00\", \"1970-05-01T00:00:00\", \"1970-06-01T00:00:00\", \"1970-07-01T00:00:00\", \"1970-08-01T00:00:00\", \"1970-09-01T00:00:00\", \"1970-10-01T00:00:00\", \"1970-11-01T00:00:00\", \"1970-12-01T00:00:00\"], \"y\": [4572.530832861136, 5194.14539791248, 11230.121432252721, 13180.991105400066, 14589.401352379273, 11548.433866801632, 7983.7737231773835, 5887.0870803853795, 4304.483331926041, 8833.515631592878, 8125.149576277393, 6323.669040973562, 6095.353609814275, 7062.741509552016, 12231.964678690161, 14450.902744821364, 15947.461817741616, 13305.294278994506, 8922.948117166483, 6899.013378483511, 5417.301006533511, 9864.47595622803, 9773.05356335126, 7697.214073917726, 7237.5604797490305, 7998.04632331455, 13429.00221676513, 15546.173309572618, 17332.390262898516, 15159.055973483626, 9871.47731738913, 7797.30493349396, 6463.4284105156685, 10934.193040197408, 11539.128992663105, 9087.918070505786, 8274.634898915449, 9095.49371978602, 14430.015477612611, 16857.393425206665, 18852.723453236933, 16925.778772380057, 10720.941240249278, 8917.425118352632, 7585.770363887702, 12107.878588349438, 13346.971281241495, 10320.65131556028, 9491.480672281286, 10112.520367401317, 16100.365560807755, 18126.680830855577, 19432.834776185406, 16386.483102628747, 12949.59995463121, 10727.394562772795, 9231.398670049999, 13585.713941571703, 13056.470659979746, 11273.639877086556, 10911.902040495721, 11784.01065603953, 17006.96027705223, 19285.589758250877, 20780.17589343682, 18059.431204413726, 13736.461248383588, 11570.747140903048, 10136.198230512557, 14527.51833335901, 14389.894505552751, 12158.931734992995, 11737.53830010623, 12491.86543256776, 17707.407177787823, 19894.11642785376, 21642.452534975644, 19314.24676085995, 13979.089842079686, 12058.903001120416, 10547.24802650413, 15077.622650135909, 15617.676978595508, 12920.277662399334, 12319.586959207865, 12883.130465885251, 18304.185628512794, 20470.90161778974, 22481.398802683445, 20539.867716882305, 14326.593575422052, 12416.051893769016, 11022.041481944321, 15595.958347814407, 16848.830829181603, 13706.710921697526, 12843.901718638974, 13379.207126757798, 19305.265463063213, 21371.405737540368, 22656.16769526484, 19457.49689103554, 15976.214151892644, 13866.51014068767, 12172.14727305588, 16630.29542671559, 15903.97170207108, 14113.247580982996, 13935.202497061571, 14722.252268985747, 19807.229134252208, 21899.16436801547, 23515.779929792654, 20810.804020386797, 16545.171590962032, 14256.244545995738, 12714.722514233938, 17267.81041300651, 17120.76396818598, 14790.38550597756, 14392.698179177934, 15066.385620354964, 20307.329118608697, 22642.519141324192, 24292.97977042942, 21972.669939903786, 16741.6962857236, 14741.031779702915, 13299.12825361479, 17676.75127820266, 18234.678387038908, 15612.553630644812]}, {\"fill\": \"tonexty\", \"fillcolor\": \"rgba(0, 114, 178, 0.2)\", \"line\": {\"color\": \"#0072B2\", \"width\": 2}, \"mode\": \"lines\", \"name\": \"Predicted\", \"type\": \"scatter\", \"x\": [\"1960-01-01T00:00:00\", \"1960-02-01T00:00:00\", \"1960-03-01T00:00:00\", \"1960-04-01T00:00:00\", \"1960-05-01T00:00:00\", \"1960-06-01T00:00:00\", \"1960-07-01T00:00:00\", \"1960-08-01T00:00:00\", \"1960-09-01T00:00:00\", \"1960-10-01T00:00:00\", \"1960-11-01T00:00:00\", \"1960-12-01T00:00:00\", \"1961-01-01T00:00:00\", \"1961-02-01T00:00:00\", \"1961-03-01T00:00:00\", \"1961-04-01T00:00:00\", \"1961-05-01T00:00:00\", \"1961-06-01T00:00:00\", \"1961-07-01T00:00:00\", \"1961-08-01T00:00:00\", \"1961-09-01T00:00:00\", \"1961-10-01T00:00:00\", \"1961-11-01T00:00:00\", \"1961-12-01T00:00:00\", \"1962-01-01T00:00:00\", \"1962-02-01T00:00:00\", \"1962-03-01T00:00:00\", \"1962-04-01T00:00:00\", \"1962-05-01T00:00:00\", \"1962-06-01T00:00:00\", \"1962-07-01T00:00:00\", \"1962-08-01T00:00:00\", \"1962-09-01T00:00:00\", \"1962-10-01T00:00:00\", \"1962-11-01T00:00:00\", \"1962-12-01T00:00:00\", \"1963-01-01T00:00:00\", \"1963-02-01T00:00:00\", \"1963-03-01T00:00:00\", \"1963-04-01T00:00:00\", \"1963-05-01T00:00:00\", \"1963-06-01T00:00:00\", \"1963-07-01T00:00:00\", \"1963-08-01T00:00:00\", \"1963-09-01T00:00:00\", \"1963-10-01T00:00:00\", \"1963-11-01T00:00:00\", \"1963-12-01T00:00:00\", \"1964-01-01T00:00:00\", \"1964-02-01T00:00:00\", \"1964-03-01T00:00:00\", \"1964-04-01T00:00:00\", \"1964-05-01T00:00:00\", \"1964-06-01T00:00:00\", \"1964-07-01T00:00:00\", \"1964-08-01T00:00:00\", \"1964-09-01T00:00:00\", \"1964-10-01T00:00:00\", \"1964-11-01T00:00:00\", \"1964-12-01T00:00:00\", \"1965-01-01T00:00:00\", \"1965-02-01T00:00:00\", \"1965-03-01T00:00:00\", \"1965-04-01T00:00:00\", \"1965-05-01T00:00:00\", \"1965-06-01T00:00:00\", \"1965-07-01T00:00:00\", \"1965-08-01T00:00:00\", \"1965-09-01T00:00:00\", \"1965-10-01T00:00:00\", \"1965-11-01T00:00:00\", \"1965-12-01T00:00:00\", \"1966-01-01T00:00:00\", \"1966-02-01T00:00:00\", \"1966-03-01T00:00:00\", \"1966-04-01T00:00:00\", \"1966-05-01T00:00:00\", \"1966-06-01T00:00:00\", \"1966-07-01T00:00:00\", \"1966-08-01T00:00:00\", \"1966-09-01T00:00:00\", \"1966-10-01T00:00:00\", \"1966-11-01T00:00:00\", \"1966-12-01T00:00:00\", \"1967-01-01T00:00:00\", \"1967-02-01T00:00:00\", \"1967-03-01T00:00:00\", \"1967-04-01T00:00:00\", \"1967-05-01T00:00:00\", \"1967-06-01T00:00:00\", \"1967-07-01T00:00:00\", \"1967-08-01T00:00:00\", \"1967-09-01T00:00:00\", \"1967-10-01T00:00:00\", \"1967-11-01T00:00:00\", \"1967-12-01T00:00:00\", \"1968-01-01T00:00:00\", \"1968-02-01T00:00:00\", \"1968-03-01T00:00:00\", \"1968-04-01T00:00:00\", \"1968-05-01T00:00:00\", \"1968-06-01T00:00:00\", \"1968-07-01T00:00:00\", \"1968-08-01T00:00:00\", \"1968-09-01T00:00:00\", \"1968-10-01T00:00:00\", \"1968-11-01T00:00:00\", \"1968-12-01T00:00:00\", \"1969-01-01T00:00:00\", \"1969-02-01T00:00:00\", \"1969-03-01T00:00:00\", \"1969-04-01T00:00:00\", \"1969-05-01T00:00:00\", \"1969-06-01T00:00:00\", \"1969-07-01T00:00:00\", \"1969-08-01T00:00:00\", \"1969-09-01T00:00:00\", \"1969-10-01T00:00:00\", \"1969-11-01T00:00:00\", \"1969-12-01T00:00:00\", \"1970-01-01T00:00:00\", \"1970-02-01T00:00:00\", \"1970-03-01T00:00:00\", \"1970-04-01T00:00:00\", \"1970-05-01T00:00:00\", \"1970-06-01T00:00:00\", \"1970-07-01T00:00:00\", \"1970-08-01T00:00:00\", \"1970-09-01T00:00:00\", \"1970-10-01T00:00:00\", \"1970-11-01T00:00:00\", \"1970-12-01T00:00:00\"], \"y\": [6140.320920904835, 6753.587337830571, 12761.871631495076, 14826.342961309856, 16162.457172651906, 13063.268548531238, 9700.353042068537, 7446.830473345963, 5924.895787089328, 10381.589629459291, 9679.64153858072, 7975.609404036766, 7766.129977429038, 8590.306809438147, 13834.196910392819, 16003.97872723667, 17556.35631647639, 14858.952001458449, 10574.552246157773, 8449.401144279253, 7002.085116839172, 11483.170283645573, 11421.044268361324, 9287.168450330002, 8859.867486510338, 9607.355313161133, 14910.702581273254, 17189.21666110523, 18956.224495916573, 16645.783214685336, 11436.635162019522, 9452.859111288648, 8085.521454921696, 12595.321299798263, 13165.53376456591, 10588.775039039967, 9946.183732764359, 10623.328891546253, 15991.557429065824, 18382.03719731508, 20361.667971764444, 18423.155243550922, 12286.994664935228, 10457.63729312005, 9175.463337288615, 13718.01211004993, 14912.492730055365, 11880.248300351772, 11025.274586199965, 11638.539018974525, 17646.821456497342, 19711.290802160707, 21045.961690302087, 17945.281632206952, 14580.922802543384, 12323.850733146242, 10798.366546099804, 15251.625387704733, 14546.127796036624, 12835.609770809207, 12619.428257162821, 13436.903002133362, 18661.352097055023, 20809.609944808348, 22341.157886540666, 19622.229602432686, 15297.712940556756, 13131.107701883218, 11642.337537648582, 16077.57761364215, 15968.078337851402, 13788.357429007783, 13313.683204705772, 14013.797770620538, 19274.356287099683, 21505.49710619519, 23226.66126529521, 20868.848185828563, 15613.856457451982, 13582.708608263472, 12167.99915321812, 16631.95532195449, 17154.795988043865, 14532.193586764837, 13842.230482211166, 14472.003842715061, 19797.44495085106, 22140.55292228306, 24074.34002239309, 22088.45549736242, 15906.451247545534, 14029.722082155817, 12700.176332750087, 17196.881435244013, 18343.990262639814, 15265.902162668972, 14363.556655907436, 14929.449809188987, 20893.417178798954, 22910.515244969305, 24200.784362515074, 21054.222474804414, 17645.46187454486, 15344.566042231858, 13775.258092269243, 18186.10684072966, 17436.78548614551, 15686.908258105133, 15430.055568218304, 16206.85913694839, 21407.960483973475, 23530.369039412624, 25036.901536970025, 22292.123960547593, 17961.87911338437, 15789.354749913935, 14294.665460882608, 18729.905536054895, 18620.406259414875, 16440.685349750052, 15966.01112457527, 16666.125689617227, 21926.684205307793, 24157.82502353035, 25878.98918165933, 23521.176101189787, 18266.184371841962, 16235.036521872968, 14820.32706604739, 19284.283234028535, 19807.123899337774, 17184.52149710147]}, {\"fill\": \"tonexty\", \"fillcolor\": \"rgba(0, 114, 178, 0.2)\", \"hoverinfo\": \"skip\", \"line\": {\"width\": 0}, \"mode\": \"lines\", \"type\": \"scatter\", \"x\": [\"1960-01-01T00:00:00\", \"1960-02-01T00:00:00\", \"1960-03-01T00:00:00\", \"1960-04-01T00:00:00\", \"1960-05-01T00:00:00\", \"1960-06-01T00:00:00\", \"1960-07-01T00:00:00\", \"1960-08-01T00:00:00\", \"1960-09-01T00:00:00\", \"1960-10-01T00:00:00\", \"1960-11-01T00:00:00\", \"1960-12-01T00:00:00\", \"1961-01-01T00:00:00\", \"1961-02-01T00:00:00\", \"1961-03-01T00:00:00\", \"1961-04-01T00:00:00\", \"1961-05-01T00:00:00\", \"1961-06-01T00:00:00\", \"1961-07-01T00:00:00\", \"1961-08-01T00:00:00\", \"1961-09-01T00:00:00\", \"1961-10-01T00:00:00\", \"1961-11-01T00:00:00\", \"1961-12-01T00:00:00\", \"1962-01-01T00:00:00\", \"1962-02-01T00:00:00\", \"1962-03-01T00:00:00\", \"1962-04-01T00:00:00\", \"1962-05-01T00:00:00\", \"1962-06-01T00:00:00\", \"1962-07-01T00:00:00\", \"1962-08-01T00:00:00\", \"1962-09-01T00:00:00\", \"1962-10-01T00:00:00\", \"1962-11-01T00:00:00\", \"1962-12-01T00:00:00\", \"1963-01-01T00:00:00\", \"1963-02-01T00:00:00\", \"1963-03-01T00:00:00\", \"1963-04-01T00:00:00\", \"1963-05-01T00:00:00\", \"1963-06-01T00:00:00\", \"1963-07-01T00:00:00\", \"1963-08-01T00:00:00\", \"1963-09-01T00:00:00\", \"1963-10-01T00:00:00\", \"1963-11-01T00:00:00\", \"1963-12-01T00:00:00\", \"1964-01-01T00:00:00\", \"1964-02-01T00:00:00\", \"1964-03-01T00:00:00\", \"1964-04-01T00:00:00\", \"1964-05-01T00:00:00\", \"1964-06-01T00:00:00\", \"1964-07-01T00:00:00\", \"1964-08-01T00:00:00\", \"1964-09-01T00:00:00\", \"1964-10-01T00:00:00\", \"1964-11-01T00:00:00\", \"1964-12-01T00:00:00\", \"1965-01-01T00:00:00\", \"1965-02-01T00:00:00\", \"1965-03-01T00:00:00\", \"1965-04-01T00:00:00\", \"1965-05-01T00:00:00\", \"1965-06-01T00:00:00\", \"1965-07-01T00:00:00\", \"1965-08-01T00:00:00\", \"1965-09-01T00:00:00\", \"1965-10-01T00:00:00\", \"1965-11-01T00:00:00\", \"1965-12-01T00:00:00\", \"1966-01-01T00:00:00\", \"1966-02-01T00:00:00\", \"1966-03-01T00:00:00\", \"1966-04-01T00:00:00\", \"1966-05-01T00:00:00\", \"1966-06-01T00:00:00\", \"1966-07-01T00:00:00\", \"1966-08-01T00:00:00\", \"1966-09-01T00:00:00\", \"1966-10-01T00:00:00\", \"1966-11-01T00:00:00\", \"1966-12-01T00:00:00\", \"1967-01-01T00:00:00\", \"1967-02-01T00:00:00\", \"1967-03-01T00:00:00\", \"1967-04-01T00:00:00\", \"1967-05-01T00:00:00\", \"1967-06-01T00:00:00\", \"1967-07-01T00:00:00\", \"1967-08-01T00:00:00\", \"1967-09-01T00:00:00\", \"1967-10-01T00:00:00\", \"1967-11-01T00:00:00\", \"1967-12-01T00:00:00\", \"1968-01-01T00:00:00\", \"1968-02-01T00:00:00\", \"1968-03-01T00:00:00\", \"1968-04-01T00:00:00\", \"1968-05-01T00:00:00\", \"1968-06-01T00:00:00\", \"1968-07-01T00:00:00\", \"1968-08-01T00:00:00\", \"1968-09-01T00:00:00\", \"1968-10-01T00:00:00\", \"1968-11-01T00:00:00\", \"1968-12-01T00:00:00\", \"1969-01-01T00:00:00\", \"1969-02-01T00:00:00\", \"1969-03-01T00:00:00\", \"1969-04-01T00:00:00\", \"1969-05-01T00:00:00\", \"1969-06-01T00:00:00\", \"1969-07-01T00:00:00\", \"1969-08-01T00:00:00\", \"1969-09-01T00:00:00\", \"1969-10-01T00:00:00\", \"1969-11-01T00:00:00\", \"1969-12-01T00:00:00\", \"1970-01-01T00:00:00\", \"1970-02-01T00:00:00\", \"1970-03-01T00:00:00\", \"1970-04-01T00:00:00\", \"1970-05-01T00:00:00\", \"1970-06-01T00:00:00\", \"1970-07-01T00:00:00\", \"1970-08-01T00:00:00\", \"1970-09-01T00:00:00\", \"1970-10-01T00:00:00\", \"1970-11-01T00:00:00\", \"1970-12-01T00:00:00\"], \"y\": [7812.723604253869, 8275.160708209889, 14324.049251044082, 16373.81225596825, 17733.72611604968, 14599.834204029934, 11282.709182227842, 8961.753443959831, 7375.740959839707, 11958.933761176939, 11352.272711307745, 9640.280478496621, 9336.323620649144, 10169.52174051292, 15395.851995689633, 17639.071686607174, 19112.39274239418, 16456.841553603677, 12129.809036868026, 10034.902789796231, 8518.87293163983, 13054.663427630987, 12897.954593142767, 10826.156641956046, 10372.379036856104, 11058.653046462294, 16599.434882022746, 18692.579232951026, 20404.98195734975, 18269.509805546095, 13023.970791782554, 11146.215958790108, 9763.74840270782, 14266.845249585376, 14695.506834821885, 12254.637069474431, 11475.756999729767, 12141.388415536134, 17520.47331654948, 19922.333375971506, 21950.01107347345, 20022.252403198872, 13828.877515116386, 12176.239473855992, 10654.892631194523, 15337.316727800006, 16593.380997383854, 13495.052166103456, 12576.674468273744, 13164.55111604253, 19202.984297174495, 21336.17702798654, 22649.42689639751, 19502.58871080646, 16246.034478217389, 13884.772064085415, 12416.853278625314, 16835.406603048028, 16123.28467777315, 14463.281945241217, 14145.230969894372, 14945.492022542627, 20347.286772715666, 22419.48695607009, 23863.00780719205, 21134.653953416873, 16814.566137087957, 14787.395808329371, 13259.933718563338, 17624.10965243216, 17496.121000635092, 15288.342910819401, 14946.449285655723, 15550.166558139224, 20869.4111880664, 23120.671963515422, 24724.613428606135, 22475.779382950353, 17209.421426440233, 15105.525053195732, 13721.447285274937, 18148.689278427315, 18726.61029229595, 16214.504141538924, 15371.04754124217, 16161.717674821186, 21446.47998646776, 23707.365867564742, 25568.057601372675, 23795.19333618982, 17451.426061623773, 15584.022712855372, 14187.910148491228, 18751.75685347933, 19972.75201801404, 16812.307160204735, 15854.222884585484, 16469.35192032741, 22608.433513308923, 24478.848924606194, 25855.710415845984, 22540.3067008658, 19195.787610217707, 16906.93332119127, 15381.5434778959, 19720.261951999335, 18849.10586675002, 17272.642008638777, 16984.98915133672, 17771.023226057092, 22997.583295552868, 25083.764402332316, 26649.57396276308, 23787.804142785884, 19656.960479108846, 17325.46222550565, 15868.378583141815, 20303.523103391286, 20164.81759184625, 17965.369060955905, 17477.523839301666, 18215.164112699687, 23527.10473048641, 25739.72469457339, 27443.541655733854, 25184.959678144405, 19902.29831805087, 17773.140293907025, 16435.35301336261, 20831.081248287363, 21353.414726865918, 18696.12948591847]}],\n",
       "                        {\"height\": 600, \"showlegend\": false, \"template\": {\"data\": {\"bar\": [{\"error_x\": {\"color\": \"#2a3f5f\"}, \"error_y\": {\"color\": \"#2a3f5f\"}, \"marker\": {\"line\": {\"color\": \"#E5ECF6\", \"width\": 0.5}}, \"type\": \"bar\"}], \"barpolar\": [{\"marker\": {\"line\": {\"color\": \"#E5ECF6\", \"width\": 0.5}}, \"type\": \"barpolar\"}], \"carpet\": [{\"aaxis\": {\"endlinecolor\": \"#2a3f5f\", \"gridcolor\": \"white\", \"linecolor\": \"white\", \"minorgridcolor\": \"white\", \"startlinecolor\": \"#2a3f5f\"}, \"baxis\": {\"endlinecolor\": \"#2a3f5f\", \"gridcolor\": \"white\", \"linecolor\": \"white\", \"minorgridcolor\": \"white\", \"startlinecolor\": \"#2a3f5f\"}, \"type\": \"carpet\"}], \"choropleth\": [{\"colorbar\": {\"outlinewidth\": 0, \"ticks\": \"\"}, \"type\": \"choropleth\"}], \"contour\": [{\"colorbar\": {\"outlinewidth\": 0, \"ticks\": \"\"}, \"colorscale\": [[0.0, \"#0d0887\"], [0.1111111111111111, \"#46039f\"], [0.2222222222222222, \"#7201a8\"], [0.3333333333333333, \"#9c179e\"], [0.4444444444444444, \"#bd3786\"], [0.5555555555555556, \"#d8576b\"], [0.6666666666666666, \"#ed7953\"], [0.7777777777777778, \"#fb9f3a\"], [0.8888888888888888, \"#fdca26\"], [1.0, \"#f0f921\"]], \"type\": \"contour\"}], \"contourcarpet\": [{\"colorbar\": {\"outlinewidth\": 0, \"ticks\": \"\"}, \"type\": \"contourcarpet\"}], \"heatmap\": [{\"colorbar\": {\"outlinewidth\": 0, \"ticks\": \"\"}, \"colorscale\": [[0.0, \"#0d0887\"], [0.1111111111111111, \"#46039f\"], [0.2222222222222222, \"#7201a8\"], [0.3333333333333333, \"#9c179e\"], [0.4444444444444444, \"#bd3786\"], [0.5555555555555556, \"#d8576b\"], [0.6666666666666666, \"#ed7953\"], [0.7777777777777778, \"#fb9f3a\"], [0.8888888888888888, \"#fdca26\"], [1.0, \"#f0f921\"]], \"type\": \"heatmap\"}], \"heatmapgl\": [{\"colorbar\": {\"outlinewidth\": 0, \"ticks\": \"\"}, \"colorscale\": [[0.0, \"#0d0887\"], [0.1111111111111111, \"#46039f\"], [0.2222222222222222, \"#7201a8\"], [0.3333333333333333, \"#9c179e\"], [0.4444444444444444, \"#bd3786\"], [0.5555555555555556, \"#d8576b\"], [0.6666666666666666, \"#ed7953\"], [0.7777777777777778, \"#fb9f3a\"], [0.8888888888888888, \"#fdca26\"], [1.0, \"#f0f921\"]], \"type\": \"heatmapgl\"}], \"histogram\": [{\"marker\": {\"colorbar\": {\"outlinewidth\": 0, \"ticks\": \"\"}}, \"type\": \"histogram\"}], \"histogram2d\": [{\"colorbar\": {\"outlinewidth\": 0, \"ticks\": \"\"}, \"colorscale\": [[0.0, \"#0d0887\"], [0.1111111111111111, \"#46039f\"], [0.2222222222222222, \"#7201a8\"], [0.3333333333333333, \"#9c179e\"], [0.4444444444444444, \"#bd3786\"], [0.5555555555555556, \"#d8576b\"], [0.6666666666666666, \"#ed7953\"], [0.7777777777777778, \"#fb9f3a\"], [0.8888888888888888, \"#fdca26\"], [1.0, \"#f0f921\"]], \"type\": \"histogram2d\"}], \"histogram2dcontour\": [{\"colorbar\": {\"outlinewidth\": 0, \"ticks\": \"\"}, \"colorscale\": [[0.0, \"#0d0887\"], [0.1111111111111111, \"#46039f\"], [0.2222222222222222, \"#7201a8\"], [0.3333333333333333, \"#9c179e\"], [0.4444444444444444, \"#bd3786\"], [0.5555555555555556, \"#d8576b\"], [0.6666666666666666, \"#ed7953\"], [0.7777777777777778, \"#fb9f3a\"], [0.8888888888888888, \"#fdca26\"], [1.0, \"#f0f921\"]], \"type\": \"histogram2dcontour\"}], \"mesh3d\": [{\"colorbar\": {\"outlinewidth\": 0, \"ticks\": \"\"}, \"type\": \"mesh3d\"}], \"parcoords\": [{\"line\": {\"colorbar\": {\"outlinewidth\": 0, \"ticks\": \"\"}}, \"type\": \"parcoords\"}], \"pie\": [{\"automargin\": true, \"type\": \"pie\"}], \"scatter\": [{\"marker\": {\"colorbar\": {\"outlinewidth\": 0, \"ticks\": \"\"}}, \"type\": \"scatter\"}], \"scatter3d\": [{\"line\": {\"colorbar\": {\"outlinewidth\": 0, \"ticks\": \"\"}}, \"marker\": {\"colorbar\": {\"outlinewidth\": 0, \"ticks\": \"\"}}, \"type\": \"scatter3d\"}], \"scattercarpet\": [{\"marker\": {\"colorbar\": {\"outlinewidth\": 0, \"ticks\": \"\"}}, \"type\": \"scattercarpet\"}], \"scattergeo\": [{\"marker\": {\"colorbar\": {\"outlinewidth\": 0, \"ticks\": \"\"}}, \"type\": \"scattergeo\"}], \"scattergl\": [{\"marker\": {\"colorbar\": {\"outlinewidth\": 0, \"ticks\": \"\"}}, \"type\": \"scattergl\"}], \"scattermapbox\": [{\"marker\": {\"colorbar\": {\"outlinewidth\": 0, \"ticks\": \"\"}}, \"type\": \"scattermapbox\"}], \"scatterpolar\": [{\"marker\": {\"colorbar\": {\"outlinewidth\": 0, \"ticks\": \"\"}}, \"type\": \"scatterpolar\"}], \"scatterpolargl\": [{\"marker\": {\"colorbar\": {\"outlinewidth\": 0, \"ticks\": \"\"}}, \"type\": \"scatterpolargl\"}], \"scatterternary\": [{\"marker\": {\"colorbar\": {\"outlinewidth\": 0, \"ticks\": \"\"}}, \"type\": \"scatterternary\"}], \"surface\": [{\"colorbar\": {\"outlinewidth\": 0, \"ticks\": \"\"}, \"colorscale\": [[0.0, \"#0d0887\"], [0.1111111111111111, \"#46039f\"], [0.2222222222222222, \"#7201a8\"], [0.3333333333333333, \"#9c179e\"], [0.4444444444444444, \"#bd3786\"], [0.5555555555555556, \"#d8576b\"], [0.6666666666666666, \"#ed7953\"], [0.7777777777777778, \"#fb9f3a\"], [0.8888888888888888, \"#fdca26\"], [1.0, \"#f0f921\"]], \"type\": \"surface\"}], \"table\": [{\"cells\": {\"fill\": {\"color\": \"#EBF0F8\"}, \"line\": {\"color\": \"white\"}}, \"header\": {\"fill\": {\"color\": \"#C8D4E3\"}, \"line\": {\"color\": \"white\"}}, \"type\": \"table\"}]}, \"layout\": {\"annotationdefaults\": {\"arrowcolor\": \"#2a3f5f\", \"arrowhead\": 0, \"arrowwidth\": 1}, \"coloraxis\": {\"colorbar\": {\"outlinewidth\": 0, \"ticks\": \"\"}}, \"colorscale\": {\"diverging\": [[0, \"#8e0152\"], [0.1, \"#c51b7d\"], [0.2, \"#de77ae\"], [0.3, \"#f1b6da\"], [0.4, \"#fde0ef\"], [0.5, \"#f7f7f7\"], [0.6, \"#e6f5d0\"], [0.7, \"#b8e186\"], [0.8, \"#7fbc41\"], [0.9, \"#4d9221\"], [1, \"#276419\"]], \"sequential\": [[0.0, \"#0d0887\"], [0.1111111111111111, \"#46039f\"], [0.2222222222222222, \"#7201a8\"], [0.3333333333333333, \"#9c179e\"], [0.4444444444444444, \"#bd3786\"], [0.5555555555555556, \"#d8576b\"], [0.6666666666666666, \"#ed7953\"], [0.7777777777777778, \"#fb9f3a\"], [0.8888888888888888, \"#fdca26\"], [1.0, \"#f0f921\"]], \"sequentialminus\": [[0.0, \"#0d0887\"], [0.1111111111111111, \"#46039f\"], [0.2222222222222222, \"#7201a8\"], [0.3333333333333333, \"#9c179e\"], [0.4444444444444444, \"#bd3786\"], [0.5555555555555556, \"#d8576b\"], [0.6666666666666666, \"#ed7953\"], [0.7777777777777778, \"#fb9f3a\"], [0.8888888888888888, \"#fdca26\"], [1.0, \"#f0f921\"]]}, \"colorway\": [\"#636efa\", \"#EF553B\", \"#00cc96\", \"#ab63fa\", \"#FFA15A\", \"#19d3f3\", \"#FF6692\", \"#B6E880\", \"#FF97FF\", \"#FECB52\"], \"font\": {\"color\": \"#2a3f5f\"}, \"geo\": {\"bgcolor\": \"white\", \"lakecolor\": \"white\", \"landcolor\": \"#E5ECF6\", \"showlakes\": true, \"showland\": true, \"subunitcolor\": \"white\"}, \"hoverlabel\": {\"align\": \"left\"}, \"hovermode\": \"closest\", \"mapbox\": {\"style\": \"light\"}, \"paper_bgcolor\": \"white\", \"plot_bgcolor\": \"#E5ECF6\", \"polar\": {\"angularaxis\": {\"gridcolor\": \"white\", \"linecolor\": \"white\", \"ticks\": \"\"}, \"bgcolor\": \"#E5ECF6\", \"radialaxis\": {\"gridcolor\": \"white\", \"linecolor\": \"white\", \"ticks\": \"\"}}, \"scene\": {\"xaxis\": {\"backgroundcolor\": \"#E5ECF6\", \"gridcolor\": \"white\", \"gridwidth\": 2, \"linecolor\": \"white\", \"showbackground\": true, \"ticks\": \"\", \"zerolinecolor\": \"white\"}, \"yaxis\": {\"backgroundcolor\": \"#E5ECF6\", \"gridcolor\": \"white\", \"gridwidth\": 2, \"linecolor\": \"white\", \"showbackground\": true, \"ticks\": \"\", \"zerolinecolor\": \"white\"}, \"zaxis\": {\"backgroundcolor\": \"#E5ECF6\", \"gridcolor\": \"white\", \"gridwidth\": 2, \"linecolor\": \"white\", \"showbackground\": true, \"ticks\": \"\", \"zerolinecolor\": \"white\"}}, \"shapedefaults\": {\"line\": {\"color\": \"#2a3f5f\"}}, \"ternary\": {\"aaxis\": {\"gridcolor\": \"white\", \"linecolor\": \"white\", \"ticks\": \"\"}, \"baxis\": {\"gridcolor\": \"white\", \"linecolor\": \"white\", \"ticks\": \"\"}, \"bgcolor\": \"#E5ECF6\", \"caxis\": {\"gridcolor\": \"white\", \"linecolor\": \"white\", \"ticks\": \"\"}}, \"title\": {\"x\": 0.05}, \"xaxis\": {\"automargin\": true, \"gridcolor\": \"white\", \"linecolor\": \"white\", \"ticks\": \"\", \"title\": {\"standoff\": 15}, \"zerolinecolor\": \"white\", \"zerolinewidth\": 2}, \"yaxis\": {\"automargin\": true, \"gridcolor\": \"white\", \"linecolor\": \"white\", \"ticks\": \"\", \"title\": {\"standoff\": 15}, \"zerolinecolor\": \"white\", \"zerolinewidth\": 2}}}, \"width\": 900, \"xaxis\": {\"rangeselector\": {\"buttons\": [{\"count\": 7, \"label\": \"1w\", \"step\": \"day\", \"stepmode\": \"backward\"}, {\"count\": 1, \"label\": \"1m\", \"step\": \"month\", \"stepmode\": \"backward\"}, {\"count\": 6, \"label\": \"6m\", \"step\": \"month\", \"stepmode\": \"backward\"}, {\"count\": 1, \"label\": \"1y\", \"step\": \"year\", \"stepmode\": \"backward\"}, {\"step\": \"all\"}]}, \"rangeslider\": {\"visible\": true}, \"title\": {\"text\": \"ds\"}, \"type\": \"date\"}, \"yaxis\": {\"title\": {\"text\": \"y\"}}},\n",
       "                        {\"responsive\": true}\n",
       "                    ).then(function(){\n",
       "                            \n",
       "var gd = document.getElementById('d4efbc1a-bbf4-4835-aa08-47df814dddb2');\n",
       "var x = new MutationObserver(function (mutations, observer) {{\n",
       "        var display = window.getComputedStyle(gd).display;\n",
       "        if (!display || display === 'none') {{\n",
       "            console.log([gd, 'removed!']);\n",
       "            Plotly.purge(gd);\n",
       "            observer.disconnect();\n",
       "        }}\n",
       "}});\n",
       "\n",
       "// Listen for the removal of the full notebook cells\n",
       "var notebookContainer = gd.closest('#notebook-container');\n",
       "if (notebookContainer) {{\n",
       "    x.observe(notebookContainer, {childList: true});\n",
       "}}\n",
       "\n",
       "// Listen for the clearing of the current output cell\n",
       "var outputEl = gd.closest('.output');\n",
       "if (outputEl) {{\n",
       "    x.observe(outputEl, {childList: true});\n",
       "}}\n",
       "\n",
       "                        })\n",
       "                };\n",
       "                });\n",
       "            </script>\n",
       "        </div>"
      ]
     },
     "metadata": {},
     "output_type": "display_data"
    }
   ],
   "source": [
    "from prophet.plot import plot_plotly, plot_components_plotly\n",
    "\n",
    "plot_plotly(model, future_forecast)"
   ]
  },
  {
   "cell_type": "markdown",
   "id": "6f31b9c1",
   "metadata": {},
   "source": [
    "### Model Evaluation\n",
    "\n",
    "We can't jump to conclusions on our model and trust it blindly. Even though we good a low error (difference) when looking at existing data, we need to look at some other important **metrics** to confidently say that our model can help the company! 🏎️"
   ]
  },
  {
   "cell_type": "markdown",
   "id": "7a6c0dc5",
   "metadata": {},
   "source": [
    "<img src='images/cv.png' width=500/>"
   ]
  },
  {
   "cell_type": "markdown",
   "id": "a8b5768b",
   "metadata": {},
   "source": [
    "Luckily for us, `fbprophet` comes with a handy [Diagnostics](https://facebook.github.io/prophet/docs/diagnostics.html) library built in.\n",
    "\n",
    "Let's start by doing [cross-validation](https://en.wikipedia.org/wiki/Cross-validation_(statistics)) - a technique in statistics, to run through the same process multiple times (instead of just one like we did above), and see how consistent are our results. Run the below two cells:"
   ]
  },
  {
   "cell_type": "code",
   "execution_count": 48,
   "id": "1bc988b3",
   "metadata": {},
   "outputs": [],
   "source": [
    "from prophet.diagnostics import cross_validation"
   ]
  },
  {
   "cell_type": "code",
   "execution_count": 49,
   "id": "eced1c4d",
   "metadata": {},
   "outputs": [
    {
     "name": "stderr",
     "output_type": "stream",
     "text": [
      "INFO:prophet:Making 10 forecasts with cutoffs between 1963-06-26 00:00:00 and 1967-12-02 00:00:00\n"
     ]
    },
    {
     "data": {
      "application/vnd.jupyter.widget-view+json": {
       "model_id": "b2252c3d11584ca6b5868c4fb7ebd30c",
       "version_major": 2,
       "version_minor": 0
      },
      "text/plain": [
       "  0%|          | 0/10 [00:00<?, ?it/s]"
      ]
     },
     "metadata": {},
     "output_type": "display_data"
    }
   ],
   "source": [
    "df_cv = cross_validation(model, period='180 days', horizon='365 days')"
   ]
  },
  {
   "cell_type": "markdown",
   "id": "472dd013",
   "metadata": {},
   "source": [
    "As we saw, this took longer than a regular model training and prediction. That's because it ran the process **10 times**, each time taking a piece of the data as the \"seen\" data, and predicting the next period, as though it is \"unseen\", trying to predict up to one year ahead each time. Robots are tricky, eh? 🤖"
   ]
  },
  {
   "cell_type": "code",
   "execution_count": 50,
   "id": "c0335ff4",
   "metadata": {
    "collapsed": true
   },
   "outputs": [
    {
     "data": {
      "text/html": [
       "<div>\n",
       "<style scoped>\n",
       "    .dataframe tbody tr th:only-of-type {\n",
       "        vertical-align: middle;\n",
       "    }\n",
       "\n",
       "    .dataframe tbody tr th {\n",
       "        vertical-align: top;\n",
       "    }\n",
       "\n",
       "    .dataframe thead th {\n",
       "        text-align: right;\n",
       "    }\n",
       "</style>\n",
       "<table border=\"1\" class=\"dataframe\">\n",
       "  <thead>\n",
       "    <tr style=\"text-align: right;\">\n",
       "      <th></th>\n",
       "      <th>ds</th>\n",
       "      <th>yhat</th>\n",
       "      <th>yhat_lower</th>\n",
       "      <th>yhat_upper</th>\n",
       "      <th>y</th>\n",
       "      <th>cutoff</th>\n",
       "    </tr>\n",
       "  </thead>\n",
       "  <tbody>\n",
       "    <tr>\n",
       "      <th>0</th>\n",
       "      <td>1963-07-01</td>\n",
       "      <td>13805.815888</td>\n",
       "      <td>12642.639226</td>\n",
       "      <td>14860.805551</td>\n",
       "      <td>12268</td>\n",
       "      <td>1963-06-26</td>\n",
       "    </tr>\n",
       "    <tr>\n",
       "      <th>1</th>\n",
       "      <td>1963-08-01</td>\n",
       "      <td>10199.563866</td>\n",
       "      <td>9112.453283</td>\n",
       "      <td>11316.398835</td>\n",
       "      <td>8642</td>\n",
       "      <td>1963-06-26</td>\n",
       "    </tr>\n",
       "    <tr>\n",
       "      <th>2</th>\n",
       "      <td>1963-09-01</td>\n",
       "      <td>6936.293395</td>\n",
       "      <td>5790.163786</td>\n",
       "      <td>8007.267786</td>\n",
       "      <td>7962</td>\n",
       "      <td>1963-06-26</td>\n",
       "    </tr>\n",
       "    <tr>\n",
       "      <th>3</th>\n",
       "      <td>1963-10-01</td>\n",
       "      <td>13997.723101</td>\n",
       "      <td>12850.328777</td>\n",
       "      <td>15065.052271</td>\n",
       "      <td>13932</td>\n",
       "      <td>1963-06-26</td>\n",
       "    </tr>\n",
       "    <tr>\n",
       "      <th>4</th>\n",
       "      <td>1963-11-01</td>\n",
       "      <td>15570.444016</td>\n",
       "      <td>14419.390611</td>\n",
       "      <td>16737.334758</td>\n",
       "      <td>15936</td>\n",
       "      <td>1963-06-26</td>\n",
       "    </tr>\n",
       "    <tr>\n",
       "      <th>...</th>\n",
       "      <td>...</td>\n",
       "      <td>...</td>\n",
       "      <td>...</td>\n",
       "      <td>...</td>\n",
       "      <td>...</td>\n",
       "      <td>...</td>\n",
       "    </tr>\n",
       "    <tr>\n",
       "      <th>115</th>\n",
       "      <td>1968-08-01</td>\n",
       "      <td>14785.202923</td>\n",
       "      <td>13266.694719</td>\n",
       "      <td>16351.071932</td>\n",
       "      <td>16722</td>\n",
       "      <td>1967-12-02</td>\n",
       "    </tr>\n",
       "    <tr>\n",
       "      <th>116</th>\n",
       "      <td>1968-09-01</td>\n",
       "      <td>13521.380465</td>\n",
       "      <td>12056.031662</td>\n",
       "      <td>15124.247878</td>\n",
       "      <td>14385</td>\n",
       "      <td>1967-12-02</td>\n",
       "    </tr>\n",
       "    <tr>\n",
       "      <th>117</th>\n",
       "      <td>1968-10-01</td>\n",
       "      <td>17058.033197</td>\n",
       "      <td>15526.574340</td>\n",
       "      <td>18584.315590</td>\n",
       "      <td>21342</td>\n",
       "      <td>1967-12-02</td>\n",
       "    </tr>\n",
       "    <tr>\n",
       "      <th>118</th>\n",
       "      <td>1968-11-01</td>\n",
       "      <td>17418.680756</td>\n",
       "      <td>15837.279145</td>\n",
       "      <td>18931.300196</td>\n",
       "      <td>17180</td>\n",
       "      <td>1967-12-02</td>\n",
       "    </tr>\n",
       "    <tr>\n",
       "      <th>119</th>\n",
       "      <td>1968-12-01</td>\n",
       "      <td>15808.948411</td>\n",
       "      <td>14306.883774</td>\n",
       "      <td>17325.382615</td>\n",
       "      <td>14577</td>\n",
       "      <td>1967-12-02</td>\n",
       "    </tr>\n",
       "  </tbody>\n",
       "</table>\n",
       "<p>120 rows × 6 columns</p>\n",
       "</div>"
      ],
      "text/plain": [
       "            ds          yhat    yhat_lower    yhat_upper      y     cutoff\n",
       "0   1963-07-01  13805.815888  12642.639226  14860.805551  12268 1963-06-26\n",
       "1   1963-08-01  10199.563866   9112.453283  11316.398835   8642 1963-06-26\n",
       "2   1963-09-01   6936.293395   5790.163786   8007.267786   7962 1963-06-26\n",
       "3   1963-10-01  13997.723101  12850.328777  15065.052271  13932 1963-06-26\n",
       "4   1963-11-01  15570.444016  14419.390611  16737.334758  15936 1963-06-26\n",
       "..         ...           ...           ...           ...    ...        ...\n",
       "115 1968-08-01  14785.202923  13266.694719  16351.071932  16722 1967-12-02\n",
       "116 1968-09-01  13521.380465  12056.031662  15124.247878  14385 1967-12-02\n",
       "117 1968-10-01  17058.033197  15526.574340  18584.315590  21342 1967-12-02\n",
       "118 1968-11-01  17418.680756  15837.279145  18931.300196  17180 1967-12-02\n",
       "119 1968-12-01  15808.948411  14306.883774  17325.382615  14577 1967-12-02\n",
       "\n",
       "[120 rows x 6 columns]"
      ]
     },
     "execution_count": 50,
     "metadata": {},
     "output_type": "execute_result"
    }
   ],
   "source": [
    "df_cv"
   ]
  },
  {
   "cell_type": "markdown",
   "id": "893ad792",
   "metadata": {},
   "source": [
    "If you look inside the `df_cv` variable, you'll see that we're storing a bunch of data about the real car sales throughout the years (`y` column), the predicted sales (`yhat`) as well as the `cutoff`s - the time blocks used to simulate \"unseen\" data, so we can better understand our model performance.\n",
    "\n",
    "You might notice already not everything is as rosy as it seemed 🥀 \n",
    "\n",
    "But we did **all this in 1 hour**! Imagine what **you can do with more time!!! 🤩**"
   ]
  },
  {
   "cell_type": "markdown",
   "id": "56b47eed",
   "metadata": {},
   "source": [
    "### Wrapping up - interpretation"
   ]
  },
  {
   "cell_type": "markdown",
   "id": "36a687c3",
   "metadata": {},
   "source": [
    "To close our current exploration and prediction, let's visualize the `mae` - [**Mean Absolute Error**](https://en.wikipedia.org/wiki/Mean_absolute_erro). This is the average difference that we're getting between the real car sales and predicted ones.\n",
    "\n",
    "Remember, when we looked at *in-sample* prediction, our average MAE was around 200 cars. Let's see how much harder *real* predictions get 🙈"
   ]
  },
  {
   "cell_type": "code",
   "execution_count": 51,
   "id": "f0c2c1d7",
   "metadata": {},
   "outputs": [
    {
     "data": {
      "image/png": "[encoded data removed]",
      "text/plain": [
       "<Figure size 720x432 with 1 Axes>"
      ]
     },
     "metadata": {},
     "output_type": "display_data"
    }
   ],
   "source": [
    "from prophet.plot import plot_cross_validation_metric\n",
    "fig = plot_cross_validation_metric(df_cv, metric='mae')"
   ]
  },
  {
   "cell_type": "markdown",
   "id": "c3a03508",
   "metadata": {},
   "source": [
    "### Explaining these results to your boss 💹"
   ]
  },
  {
   "cell_type": "markdown",
   "id": "17d9b2cf",
   "metadata": {},
   "source": [
    "Let's explore the chart above:\n",
    "* Our horizontal (`x`) axis is how many days into the future we're predicting. As you can see, we tried to predict up to a maximum of 365 days (1 year). That's our **horizon**\n",
    "* Our vertical (`y`) axis is the **Mean Absolute Error** - the average error in our predictions in car sales. We can see we are typically making errors of around 1000-2000 cars.\n",
    "\n",
    "**Our best case interpretation:**\n",
    "\n",
    "We can see some clear highs and lows in our errors, which is not good. :( The main reason for that is that our data is `monthly` but we are doing our cross-validation `by day`. \n",
    "\n",
    "Still, it seems that **our predictions are best at `around 3 to 6 months into the future`, where we are able to `predict with 95% confidence the car sales, with an error of ±1300 cars`.**\n",
    "\n",
    "Before and after that the **volatility** (waviness) or errors becomes too big to say anything with certainty. Your boss will be happy you did our research 🤓"
   ]
  },
  {
   "cell_type": "markdown",
   "id": "aff6de58",
   "metadata": {},
   "source": [
    "# Congrats on completing this challenge! 🙌 There's always more to learn!"
   ]
  }
 ],
 "metadata": {
  "kernelspec": {
   "display_name": "lewagon",
   "language": "python",
   "name": "lewagon"
  },
  "language_info": {
   "codemirror_mode": {
    "name": "ipython",
    "version": 3
   },
   "file_extension": ".py",
   "mimetype": "text/x-python",
   "name": "python",
   "nbconvert_exporter": "python",
   "pygments_lexer": "ipython3",
   "version": "3.8.6"
  },
  "toc": {
   "base_numbering": 1,
   "nav_menu": {},
   "number_sections": true,
   "sideBar": true,
   "skip_h1_title": false,
   "title_cell": "Table of Contents",
   "title_sidebar": "Contents",
   "toc_cell": false,
   "toc_position": {},
   "toc_section_display": true,
   "toc_window_display": false
  }
 },
 "nbformat": 4,
 "nbformat_minor": 5
}
