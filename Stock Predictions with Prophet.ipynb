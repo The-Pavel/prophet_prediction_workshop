{
 "cells": [
  {
   "cell_type": "markdown",
   "id": "cec32c36",
   "metadata": {},
   "source": [
    "# Stock Predictions with Prophet 💰"
   ]
  },
  {
   "cell_type": "markdown",
   "id": "f38d41e0",
   "metadata": {},
   "source": [
    "Now that you have seen how `prophet` helps us do predictions, it's **your turn** to do **stock predictions**. \n",
    "\n",
    "In this challenge, we're looking at the stock closing prices of **Apple** (`AAPL`) starting from 2018-11. We're using data from a CSV file, so you can plug-in any stock data you want in the future. The data was gathered from [IEX](https://iexcloud.io/docs/api/).\n",
    "\n",
    "Let's get started 💹"
   ]
  },
  {
   "cell_type": "markdown",
   "id": "4812132e",
   "metadata": {},
   "source": [
    "First, we import the necessary Python libraries. `pandas` for dealing with CSV files and data, and `prophet` for our predictions:"
   ]
  },
  {
   "cell_type": "code",
   "execution_count": 2,
   "id": "d333136a",
   "metadata": {},
   "outputs": [],
   "source": [
    "import pandas as pd\n",
    "import numpy as np\n",
    "from prophet import Prophet"
   ]
  },
  {
   "cell_type": "markdown",
   "id": "728874c4",
   "metadata": {},
   "source": [
    "The rest of the steps are essentially the same as with the car sales forecasting we just did 🚗\n",
    "\n",
    "So make sure to check back in the `Monthly Car Sales with Prophet` notebook or the lecture slides on Learn if you forgot anything. We hide the solutions for this one, because we know you got this 💪"
   ]
  },
  {
   "cell_type": "markdown",
   "id": "1271f7ac",
   "metadata": {},
   "source": [
    "## Your turn! 🚀"
   ]
  },
  {
   "cell_type": "markdown",
   "id": "e1a87bda",
   "metadata": {},
   "source": [
    "**Create a DataFrame** called `df` by reading the `aapl.csv` file, which is in the `data` folder"
   ]
  },
  {
   "cell_type": "code",
   "execution_count": 3,
   "id": "af9fb3c6",
   "metadata": {},
   "outputs": [
    {
     "data": {
      "text/html": [
       "<div>\n",
       "<style scoped>\n",
       "    .dataframe tbody tr th:only-of-type {\n",
       "        vertical-align: middle;\n",
       "    }\n",
       "\n",
       "    .dataframe tbody tr th {\n",
       "        vertical-align: top;\n",
       "    }\n",
       "\n",
       "    .dataframe thead th {\n",
       "        text-align: right;\n",
       "    }\n",
       "</style>\n",
       "<table border=\"1\" class=\"dataframe\">\n",
       "  <thead>\n",
       "    <tr style=\"text-align: right;\">\n",
       "      <th></th>\n",
       "      <th>close</th>\n",
       "      <th>date</th>\n",
       "    </tr>\n",
       "  </thead>\n",
       "  <tbody>\n",
       "    <tr>\n",
       "      <th>0</th>\n",
       "      <td>53.060</td>\n",
       "      <td>2018-10-29</td>\n",
       "    </tr>\n",
       "    <tr>\n",
       "      <th>1</th>\n",
       "      <td>53.325</td>\n",
       "      <td>2018-10-30</td>\n",
       "    </tr>\n",
       "    <tr>\n",
       "      <th>2</th>\n",
       "      <td>54.715</td>\n",
       "      <td>2018-10-31</td>\n",
       "    </tr>\n",
       "    <tr>\n",
       "      <th>3</th>\n",
       "      <td>55.555</td>\n",
       "      <td>2018-11-01</td>\n",
       "    </tr>\n",
       "    <tr>\n",
       "      <th>4</th>\n",
       "      <td>51.870</td>\n",
       "      <td>2018-11-02</td>\n",
       "    </tr>\n",
       "    <tr>\n",
       "      <th>...</th>\n",
       "      <td>...</td>\n",
       "      <td>...</td>\n",
       "    </tr>\n",
       "    <tr>\n",
       "      <th>681</th>\n",
       "      <td>148.480</td>\n",
       "      <td>2021-07-15</td>\n",
       "    </tr>\n",
       "    <tr>\n",
       "      <th>682</th>\n",
       "      <td>146.390</td>\n",
       "      <td>2021-07-16</td>\n",
       "    </tr>\n",
       "    <tr>\n",
       "      <th>683</th>\n",
       "      <td>142.450</td>\n",
       "      <td>2021-07-19</td>\n",
       "    </tr>\n",
       "    <tr>\n",
       "      <th>684</th>\n",
       "      <td>146.150</td>\n",
       "      <td>2021-07-20</td>\n",
       "    </tr>\n",
       "    <tr>\n",
       "      <th>685</th>\n",
       "      <td>145.400</td>\n",
       "      <td>2021-07-21</td>\n",
       "    </tr>\n",
       "  </tbody>\n",
       "</table>\n",
       "<p>686 rows × 2 columns</p>\n",
       "</div>"
      ],
      "text/plain": [
       "       close        date\n",
       "0     53.060  2018-10-29\n",
       "1     53.325  2018-10-30\n",
       "2     54.715  2018-10-31\n",
       "3     55.555  2018-11-01\n",
       "4     51.870  2018-11-02\n",
       "..       ...         ...\n",
       "681  148.480  2021-07-15\n",
       "682  146.390  2021-07-16\n",
       "683  142.450  2021-07-19\n",
       "684  146.150  2021-07-20\n",
       "685  145.400  2021-07-21\n",
       "\n",
       "[686 rows x 2 columns]"
      ]
     },
     "execution_count": 3,
     "metadata": {},
     "output_type": "execute_result"
    }
   ],
   "source": [
    "# your code here\n",
    "df = pd.read_csv('data/aapl.csv')\n",
    "df"
   ]
  },
  {
   "cell_type": "markdown",
   "id": "138c1a33",
   "metadata": {},
   "source": [
    "<details><summary>Solution</summary>\n",
    "    \n",
    "<pre>\n",
    "df = pd.read_csv('data/aapl.csv')\n",
    "df\n",
    "</pre>\n",
    "    \n",
    "</details>\n"
   ]
  },
  {
   "cell_type": "markdown",
   "id": "da1ae707",
   "metadata": {},
   "source": [
    "**Check** how many **rows and columns** do you have. Also check what are the **data types** of your columns"
   ]
  },
  {
   "cell_type": "code",
   "execution_count": 12,
   "id": "81048347",
   "metadata": {},
   "outputs": [],
   "source": [
    "# number of rows and columns"
   ]
  },
  {
   "cell_type": "code",
   "execution_count": 13,
   "id": "71e6073d",
   "metadata": {},
   "outputs": [],
   "source": [
    "# data types"
   ]
  },
  {
   "cell_type": "markdown",
   "id": "a1623300",
   "metadata": {},
   "source": [
    "<details><summary>Solution</summary>\n",
    "    \n",
    "<pre>\n",
    "df.shape # to check how many rows and columns\n",
    "df.dtypes # to check data types of columns\n",
    "</pre>\n",
    "    \n",
    "</details>\n"
   ]
  },
  {
   "cell_type": "markdown",
   "id": "b50ec66e",
   "metadata": {},
   "source": [
    "### Preparing data for `prophet`\n",
    "\n",
    "In the livecode we saw that `prophet` asks us to [format the data in a certain way](https://facebook.github.io/prophet/docs/quick_start.html) to make it work."
   ]
  },
  {
   "cell_type": "markdown",
   "id": "0de91339",
   "metadata": {},
   "source": [
    "**Change the columns** to `y` and `ds`, in this order. `y` is our stock price (our target to predict), `ds` is the date."
   ]
  },
  {
   "cell_type": "code",
   "execution_count": 5,
   "id": "70ce7c6d",
   "metadata": {},
   "outputs": [],
   "source": [
    "# your code here"
   ]
  },
  {
   "cell_type": "markdown",
   "id": "73f58fbc",
   "metadata": {},
   "source": [
    "<details><summary>Solution</summary>\n",
    "    \n",
    "<pre>\n",
    "df.columns = ['y', 'ds']\n",
    "df # to check\n",
    "</pre>\n",
    "    \n",
    "</details>\n"
   ]
  },
  {
   "cell_type": "markdown",
   "id": "021eb63a",
   "metadata": {},
   "source": [
    "**Convert the `ds` column** to a `datetime` data type. Remember the [pandas.to_datetime()](https://pandas.pydata.org/pandas-docs/stable/reference/api/pandas.to_datetime.html) function"
   ]
  },
  {
   "cell_type": "code",
   "execution_count": 6,
   "id": "f6151929",
   "metadata": {},
   "outputs": [],
   "source": [
    "# your code here"
   ]
  },
  {
   "cell_type": "markdown",
   "id": "f0149fd3",
   "metadata": {},
   "source": [
    "<details><summary>Solution</summary>\n",
    "    \n",
    "<pre>\n",
    "df['ds'] = pd.to_datetime(df['ds'])\n",
    "df.dtypes # to check\n",
    "</pre>\n",
    "    \n",
    "</details>\n"
   ]
  },
  {
   "cell_type": "markdown",
   "id": "482798d9",
   "metadata": {},
   "source": [
    "**Visualize** the data that we have. We don't want to start making predictions before looking at the past :)"
   ]
  },
  {
   "cell_type": "code",
   "execution_count": null,
   "id": "896536f5",
   "metadata": {},
   "outputs": [],
   "source": [
    "# your code here"
   ]
  },
  {
   "cell_type": "markdown",
   "id": "7213664c",
   "metadata": {},
   "source": [
    "<details><summary>Solution</summary>\n",
    "    \n",
    "<pre>\n",
    "df.plot(x='ds', y='y', figsize=(15,6), label='AAPL')\n",
    "</pre>\n",
    "    \n",
    "</details>\n"
   ]
  },
  {
   "cell_type": "markdown",
   "id": "22c9ca66",
   "metadata": {},
   "source": [
    "**Finally** let's create a new `model` and `fit` (train) it on our DataFrame 🤖"
   ]
  },
  {
   "cell_type": "code",
   "execution_count": 8,
   "id": "98b8710e",
   "metadata": {},
   "outputs": [],
   "source": [
    "# your code here"
   ]
  },
  {
   "cell_type": "markdown",
   "id": "e588a39d",
   "metadata": {},
   "source": [
    "<details><summary>Solution</summary>\n",
    "    \n",
    "<pre>\n",
    "model = Prophet()\n",
    "model.fit(df)\n",
    "</pre>\n",
    "    \n",
    "</details>\n"
   ]
  },
  {
   "cell_type": "markdown",
   "id": "96f17518",
   "metadata": {},
   "source": [
    "## In-sample prediction\n",
    "\n",
    "Let's start with looking at existing data and see how well the model learned the patterns."
   ]
  },
  {
   "cell_type": "markdown",
   "id": "6bcecbaf",
   "metadata": {},
   "source": [
    "**Make a `sample`** with the last `90 days` of stock prices from our DataFrame `df`"
   ]
  },
  {
   "cell_type": "code",
   "execution_count": 10,
   "id": "e9ad093e",
   "metadata": {},
   "outputs": [],
   "source": [
    "# your code here"
   ]
  },
  {
   "cell_type": "markdown",
   "id": "89047eb4",
   "metadata": {},
   "source": [
    "<details><summary>Solution</summary>\n",
    "    \n",
    "<pre>\n",
    "sample = df[-90:] # counting 90 from the end of the dataframe\n",
    "\n",
    "# OR\n",
    "\n",
    "sample = df[595:686] # manually looking at the indexes\n",
    "\n",
    "# Then, to check, see what's inside 'sample'\n",
    "\n",
    "sample\n",
    "</pre>\n",
    "    \n",
    "</details>\n"
   ]
  },
  {
   "cell_type": "markdown",
   "id": "b6a3bd3f",
   "metadata": {},
   "source": [
    "**Create a `forecast`** by using the `.predict()` method of our `model`"
   ]
  },
  {
   "cell_type": "code",
   "execution_count": 12,
   "id": "e9f7a50d",
   "metadata": {},
   "outputs": [],
   "source": [
    "# your code here"
   ]
  },
  {
   "cell_type": "markdown",
   "id": "2a042048",
   "metadata": {},
   "source": [
    "<details><summary>Solution</summary>\n",
    "    \n",
    "<pre>\n",
    "forecast = model.predict(sample)\n",
    "forecast # to check\n",
    "</pre>\n",
    "    \n",
    "</details>\n"
   ]
  },
  {
   "cell_type": "markdown",
   "id": "5a895ab2",
   "metadata": {},
   "source": [
    "We can look inside the `forecast` variable, but it's not easy to read. Let's **visualize** our forecast instead."
   ]
  },
  {
   "cell_type": "code",
   "execution_count": null,
   "id": "7cd7307b",
   "metadata": {},
   "outputs": [],
   "source": [
    "# your code here"
   ]
  },
  {
   "cell_type": "markdown",
   "id": "8e5135a7",
   "metadata": {},
   "source": [
    "<details><summary>Solution</summary>\n",
    "    \n",
    "<pre>\n",
    "model.plot(forecast); # don't forget the ';' to avoid duplication\n",
    "</pre>\n",
    "    \n",
    "</details>\n"
   ]
  },
  {
   "cell_type": "markdown",
   "id": "4671164a",
   "metadata": {},
   "source": [
    "**[Bonus 🏋️‍♂️]** Let's also **plot a line** of the real historic data between the dots. Don't hesitate to check how we did that with the car sales challenge."
   ]
  },
  {
   "cell_type": "code",
   "execution_count": 33,
   "id": "0c3f3ea7",
   "metadata": {},
   "outputs": [],
   "source": [
    "# your code here"
   ]
  },
  {
   "cell_type": "markdown",
   "id": "8a131e10",
   "metadata": {},
   "source": [
    "<details><summary>Solution</summary>\n",
    "    \n",
    "<pre>\n",
    "ax = model.plot(forecast).gca()\n",
    "df.plot(ax=ax, x='ds', y='y', label='actual', color='g')\n",
    "</pre>\n",
    "    \n",
    "</details>\n"
   ]
  },
  {
   "cell_type": "markdown",
   "id": "04e8cc29",
   "metadata": {},
   "source": [
    "**Finally, let's count the difference** between the `y` column in our `sample` and the `yhat` column in our `forecast`"
   ]
  },
  {
   "cell_type": "code",
   "execution_count": 16,
   "id": "9ccd6d53",
   "metadata": {},
   "outputs": [],
   "source": [
    "# your code here"
   ]
  },
  {
   "cell_type": "markdown",
   "id": "94d7436c",
   "metadata": {},
   "source": [
    "<details><summary>Solution</summary>\n",
    "    \n",
    "<pre>\n",
    "difference = forecast['yhat'].values - sample['y'].values\n",
    "np.absolute(difference).mean() # we need the absolute average, because our predictions can high or low\n",
    "</pre>\n",
    "    \n",
    "</details>\n"
   ]
  },
  {
   "cell_type": "markdown",
   "id": "778b1141",
   "metadata": {},
   "source": [
    "We can see our predictions are very close - on average just about 25 cents off! Now let's move on to **future predictions** 🔮"
   ]
  },
  {
   "cell_type": "markdown",
   "id": "cf400e12",
   "metadata": {},
   "source": [
    "## Out-of-sample prediction"
   ]
  },
  {
   "cell_type": "markdown",
   "id": "bb2c067f",
   "metadata": {},
   "source": [
    "**First, let's create a `future` DataFrame** which will contain dates for the next 180 days.\n",
    "\n",
    "In the previous challenge we had to set our `freq`uency to `MS`, because our car sales were monthly. The only difference here, is that we need to change the `freq` option to `D`, for 'days'."
   ]
  },
  {
   "cell_type": "code",
   "execution_count": 39,
   "id": "d99e86ba",
   "metadata": {},
   "outputs": [],
   "source": [
    "# your code here"
   ]
  },
  {
   "cell_type": "markdown",
   "id": "87748637",
   "metadata": {},
   "source": [
    "<details><summary>Solution</summary>\n",
    "    \n",
    "<pre>\n",
    "future = model.make_future_dataframe(freq='D', periods=90)\n",
    "future\n",
    "</pre>\n",
    "    \n",
    "</details>\n"
   ]
  },
  {
   "cell_type": "markdown",
   "id": "5ec90416",
   "metadata": {},
   "source": [
    "**[But wait ❗]** The stock exchange is **closed on the weekends**, so if we want to be more accurate, we should also remove weekends from our `future` dates. For that we need to do some filtering using the [`pandas.datetime.dayofweek`](https://pandas.pydata.org/docs/reference/api/pandas.DatetimeIndex.dayofweek.html) function. Simply run the cell below, to update your `future` DataFrame 😉"
   ]
  },
  {
   "cell_type": "code",
   "execution_count": null,
   "id": "2b9a6eb7",
   "metadata": {},
   "outputs": [],
   "source": [
    "future = future[future['ds'].dt.dayofweek < 5]\n",
    "future.tail(10) # last 10 rows, note the weekend gaps"
   ]
  },
  {
   "cell_type": "markdown",
   "id": "57f2e85e",
   "metadata": {},
   "source": [
    "**Time to make a `future_forecast`** using the `.predict()` method of our `model`"
   ]
  },
  {
   "cell_type": "code",
   "execution_count": 52,
   "id": "a57b4302",
   "metadata": {},
   "outputs": [],
   "source": [
    "# Your code here"
   ]
  },
  {
   "cell_type": "markdown",
   "id": "b1b695eb",
   "metadata": {},
   "source": [
    "<details><summary>Solution</summary>\n",
    "    \n",
    "<pre>\n",
    "future_forecast = model.predict(future)\n",
    "future_forecast.tail() # last 5 rows\n",
    "</pre>\n",
    "    \n",
    "</details>\n"
   ]
  },
  {
   "cell_type": "markdown",
   "id": "95a9e4ca",
   "metadata": {},
   "source": [
    "Again, looking at this huge DataFrame is not ideal - let's **visualize our predictions**"
   ]
  },
  {
   "cell_type": "code",
   "execution_count": 56,
   "id": "7281d0cc",
   "metadata": {},
   "outputs": [],
   "source": [
    "# Your code here"
   ]
  },
  {
   "cell_type": "markdown",
   "id": "fd4159b0",
   "metadata": {},
   "source": [
    "<details><summary>Solution</summary>\n",
    "    \n",
    "<pre>\n",
    "model.plot(future_forecast);\n",
    "</pre>\n",
    "    \n",
    "</details>\n"
   ]
  },
  {
   "cell_type": "markdown",
   "id": "69d4d1e4",
   "metadata": {},
   "source": [
    "Interesting results! We can clearly see there's a point where our model starts \"losing confidence\". Let's explore our findings further."
   ]
  },
  {
   "cell_type": "markdown",
   "id": "aec50869",
   "metadata": {},
   "source": [
    "## Exploring our Prediction"
   ]
  },
  {
   "cell_type": "markdown",
   "id": "9729c1dd",
   "metadata": {},
   "source": [
    "Let's start by looking at the different **components** of our time series prediction - such as **seasonality** and **trend**. Don't hesitate to check the car sales notebook for the answers!"
   ]
  },
  {
   "cell_type": "code",
   "execution_count": 59,
   "id": "f698f1b0",
   "metadata": {},
   "outputs": [],
   "source": [
    "# Your code here"
   ]
  },
  {
   "cell_type": "markdown",
   "id": "944a29e3",
   "metadata": {},
   "source": [
    "<details><summary>Solution</summary>\n",
    "    \n",
    "<pre>\n",
    "model.plot_components(future_forecast);\n",
    "</pre>\n",
    "    \n",
    "</details>\n"
   ]
  },
  {
   "cell_type": "markdown",
   "id": "5cec03ac",
   "metadata": {},
   "source": [
    "Any day traders here? 🙋‍♂️ 🙋‍♀️ Because our data is daily, you can also see the **weekday trends**."
   ]
  },
  {
   "cell_type": "markdown",
   "id": "0cfbcde9",
   "metadata": {},
   "source": [
    "**[Bonus 🏋️‍♂️]** Shall we make our graph interactive? Remember the `.plot_plotly()` function we used in our car sales livecode."
   ]
  },
  {
   "cell_type": "code",
   "execution_count": 61,
   "id": "26b49dca",
   "metadata": {},
   "outputs": [],
   "source": [
    "# Your code here"
   ]
  },
  {
   "cell_type": "markdown",
   "id": "d386e5aa",
   "metadata": {},
   "source": [
    "<details><summary>Solution</summary>\n",
    "    \n",
    "<pre>\n",
    "from prophet.plot import plot_plotly, plot_components_plotly\n",
    "\n",
    "plot_plotly(model, future_forecast)\n",
    "</pre>\n",
    "    \n",
    "</details>\n"
   ]
  },
  {
   "cell_type": "markdown",
   "id": "fb5f97a5",
   "metadata": {},
   "source": [
    "## Evaluating our Model"
   ]
  },
  {
   "cell_type": "markdown",
   "id": "83af395a",
   "metadata": {},
   "source": [
    "Let's use the [Diagnostics](https://facebook.github.io/prophet/docs/diagnostics.html) library from `prophet` to validate our model using `cross_validation`. Run the cell below to import the library first:"
   ]
  },
  {
   "cell_type": "code",
   "execution_count": 64,
   "id": "c4219567",
   "metadata": {},
   "outputs": [],
   "source": [
    "from prophet.diagnostics import cross_validation"
   ]
  },
  {
   "cell_type": "markdown",
   "id": "59e6370d",
   "metadata": {},
   "source": [
    "Now **create a `df_cv`** DataFrame that is the result of running `cross_validation` on our model, with a horizon of 180, 90 or 60 days - your choice! \n",
    "\n",
    "The less days you choose, the longer it will take, and the more learning the model will do, because it will chop up your data into those blocks."
   ]
  },
  {
   "cell_type": "code",
   "execution_count": 65,
   "id": "f7c4d2c7",
   "metadata": {},
   "outputs": [],
   "source": [
    "# Your code here"
   ]
  },
  {
   "cell_type": "markdown",
   "id": "8fad3d93",
   "metadata": {},
   "source": [
    "<details><summary>Solution</summary>\n",
    "    \n",
    "<pre>\n",
    "df_cv = cross_validation(model, horizon = '60 days')\n",
    "</pre>\n",
    "    \n",
    "</details>\n"
   ]
  },
  {
   "cell_type": "markdown",
   "id": "ca32e342",
   "metadata": {},
   "source": [
    "**Finally, let's visualize the errors** (differences) that between our model prediction and the seen reality. We will use the `mae` (Mean Absolute Error) as the metric, same as with our car sales predictions."
   ]
  },
  {
   "cell_type": "code",
   "execution_count": 80,
   "id": "cea822ad",
   "metadata": {
    "collapsed": true
   },
   "outputs": [
    {
     "data": {
      "image/png": "[encoded data removed]",
      "text/plain": [
       "<Figure size 720x432 with 1 Axes>"
      ]
     },
     "metadata": {},
     "output_type": "display_data"
    }
   ],
   "source": [
    "from prophet.plot import plot_cross_validation_metric\n",
    "fig = plot_cross_validation_metric(df_cv, metric='mae')"
   ]
  },
  {
   "cell_type": "markdown",
   "id": "87ebde88",
   "metadata": {},
   "source": [
    "## Interpretation"
   ]
  },
  {
   "cell_type": "code",
   "execution_count": 81,
   "id": "bf51bf63",
   "metadata": {},
   "outputs": [
    {
     "data": {
      "image/png": "[encoded data removed]",
      "text/plain": [
       "<Figure size 720x432 with 1 Axes>"
      ]
     },
     "metadata": {},
     "output_type": "display_data"
    }
   ],
   "source": [
    "model.plot(future_forecast);"
   ]
  },
  {
   "cell_type": "markdown",
   "id": "d99871b8",
   "metadata": {},
   "source": [
    "With the information you have, you can already start making decisions. The rest is up to how risk averse are you and what's your goal!\n",
    "\n",
    "* We can see from the prediction `plot` that we have a point after which the model quickly starts to lose confidence.\n",
    "* We can also see the same from the errors - as we try to predict further into the future, our accuracy goes down.\n",
    "* **But** we can see that typically about up to 30-50 days into the future we are getting good results for 1 hour of work! 💪"
   ]
  },
  {
   "cell_type": "markdown",
   "id": "2dd23fa7",
   "metadata": {},
   "source": [
    "# Congrats! You now have Python tools for your own predictions! 🔥"
   ]
  }
 ],
 "metadata": {
  "kernelspec": {
   "display_name": "Python 3 (ipykernel)",
   "language": "python",
   "name": "python3"
  },
  "language_info": {
   "codemirror_mode": {
    "name": "ipython",
    "version": 3
   },
   "file_extension": ".py",
   "mimetype": "text/x-python",
   "name": "python",
   "nbconvert_exporter": "python",
   "pygments_lexer": "ipython3",
   "version": "3.8.12"
  },
  "toc": {
   "base_numbering": 1,
   "nav_menu": {},
   "number_sections": true,
   "sideBar": true,
   "skip_h1_title": false,
   "title_cell": "Table of Contents",
   "title_sidebar": "Contents",
   "toc_cell": false,
   "toc_position": {},
   "toc_section_display": true,
   "toc_window_display": false
  }
 },
 "nbformat": 4,
 "nbformat_minor": 5
}
